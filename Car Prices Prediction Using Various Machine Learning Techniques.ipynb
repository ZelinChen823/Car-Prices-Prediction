{
 "cells": [
  {
   "cell_type": "markdown",
   "metadata": {},
   "source": [
    "# Car Prices Prediction \n",
    "### 1.1 Introduction\n",
    "If we look at car companies, we see that they set different prices of cars based on a few set of factors such as horse power and other parameters. If a new company is planning to invest in manufacturing cars, it would be really useful for the company to understand some of the factors that affect the prices of the car respectively. It would be really useful if we are able to use machine learning in the prediction of the prices of cars and also predict the prices of different cars. With the help of machine learning and data science, it is possible to explore some useful insights about the car prices and other important features for the manufacture of the cars respectively. Once we understand that data, we would be able to provide insights to new companies that are willing to invest in the manufacture of different cars respectively. \n",
    "\n",
    "### 1.2 Metrics \n",
    "1. Mean Squared Error (MSE)\n",
    "2. Mean Absolute Error (MAE)\n",
    "\n",
    "### 1.3 Source\n",
    "\n",
    "The data which is used can be downloaded from the repository. This is a fun data to work with and we would be coming through some of the key insights that would help us get the predictions for different cars.  \n",
    "\n",
    "https://www.kaggle.com/CooperUnion/cardataset\n",
    "\n",
    "There are some cars such as Bugatti and Lamborghini whose prices are beyond what an average Joe would be willing to buy. There are many other affordable car brands such as Ford and Toyota. The exploration of the data that we are about to work with will give us a very good idea about all the cars and their average prices for a particular car brand. We would be working with the data that contains the most accurate information about cars and so on. \n",
    "\n",
    "We would start by reading the data and then, visualizing the plots followed by using various machine learning algorithms for predicting the prices of cars. Moreover, we would be comparing those machine learning algorithms and check the best algorithm and use it for predictions for new cars that we are about to enter. So without much delay, let's go!\n",
    "\n",
    "## Table of Contents \n",
    "### 1. Car Prices Prediction\n",
    "1.1 Introduction\n",
    "\n",
    "1.2 Metrics\n",
    "\n",
    "1.3 Source\n",
    "\n",
    "1.4 Importing libraries\n",
    "\n",
    "1.5 Reading the data\n",
    "\n",
    "### 2. Exploratory data analysis \n",
    "\n",
    "##### 2.1 Countplot \n",
    "\n",
    "&ensp;&ensp;&ensp; 2.1.1 Countplot of Different Car Companies\n",
    "\n",
    "&ensp;&ensp;&ensp;2.1.2 Countplot of the total cars per different years\n",
    "\n",
    "&ensp;&ensp;&ensp;2.1.3 Counting the cars based on transmission type\n",
    "\n",
    "&ensp;&ensp;&ensp;2.1.4 Countplot of Engine Fuel Type\n",
    "\n",
    "&ensp;&ensp;&ensp;2.1.5 Countplot of Vehicle Size\n",
    "\n",
    "2.2 Missingno\n",
    "\n",
    "##### 2.3 Groupby \n",
    "\n",
    "&ensp;&ensp;&ensp;2.3.1 Grouping with 'Make' feature\n",
    "\n",
    "&ensp;&ensp;&ensp;2.3.2 Grouping the data on the basis of Year\n",
    "\n",
    "&ensp;&ensp;&ensp;2.3.3 Grouping on the basis of Transmission Type\n",
    "\n",
    "&ensp;&ensp;&ensp;2.3.4 Grouping on the basis of Make and 'MSRP' values\n",
    "\n",
    "&ensp;&ensp;&ensp;2.3.5 grouping on the basis of Make and 'Engine HP' values\n",
    "\n",
    "&ensp;&ensp;&ensp;2.3.6 Grouping on the basis of Driven Wheels\n",
    "\n",
    "&ensp;&ensp;&ensp;2.3.7 grouping on the basis of Make with 'Popularity' values\n",
    "\n",
    "2.4 Scatterplot between 'highway MPG' and 'city mpg'\n",
    "\n",
    "##### 2.5 Boxplot\n",
    "\n",
    "&ensp;&ensp;&ensp;2.5.1 Boxplot of 'highway MPG'\n",
    "\n",
    "&ensp;&ensp;&ensp;2.5.2 Boxplot of 'city mpg'\n",
    "\n",
    "&ensp;&ensp;&ensp;2.5.3 Boxplot of 2 features 'city mpg' and 'highway MPG'\n",
    "\n",
    "&ensp;&ensp;&ensp;2.5.4 Boxplot of 'Engine HP'\n",
    "\n",
    "##### 2.6 lmplot\n",
    "\n",
    "&ensp;&ensp;&ensp;2.6.1 lmplot between 'Engine HP' and 'Popularity'\n",
    "\n",
    "&ensp;&ensp;&ensp;2.6.2 lmplot between 'Engine Cylinders' and 'Popularity'\n",
    "\n",
    "&ensp;&ensp;&ensp;2.6.3 lmplot between 'Number of Doors' and 'Popularity'\n",
    "\n",
    "&ensp;&ensp;&ensp;2.6.4 lmplot between 'Engine Cylinders' and 'Engine HP'\n",
    "\n",
    "&ensp;&ensp;&ensp;2.6.5 lmplot between 'city mpg' and 'highway MPG'\n",
    "\n",
    "&ensp;&ensp;&ensp;2.6.6 lmplot between 'city mpg' and 'Engine Cylinders'\n",
    "\n",
    "2.7 Heatmap\n",
    "\n",
    "2.8 Grouping on the basis of 'Year'\n",
    "\n",
    "2.9 Plotting the barplot of 'Years of Manufacture'\n",
    "\n",
    "### 3. Manipulating the Data \n",
    "\n",
    "3.1 Shuffling the data \n",
    "\n",
    "3.2 Dividing the data into training and testing set\n",
    "\n",
    "3.3 Encoding the data \n",
    "\n",
    "3.4 One Hot Encoding \n",
    "\n",
    "3.5 Standardization and Normalization of data \n",
    "\n",
    "### 4. Machine Learning Analysis \n",
    "\n",
    "##### 4.1 Linear Regression \n",
    "\n",
    "&ensp;&ensp;&ensp;4.1.1 Regplot for Linear Regression Output \n",
    "\n",
    "##### 4.2 Support Vector Regressor \n",
    "\n",
    "&ensp;&ensp;&ensp;4.2.1 Regplot for Support Vector Regressor  \n",
    "\n",
    "##### 4.3 K - Neighbors Regressor \n",
    "\n",
    "&ensp;&ensp;&ensp;4.3.1 Regplot for K - Neighbors Regressor \n",
    "\n",
    "##### 4.4 PLS Regression\n",
    "\n",
    "&ensp;&ensp;&ensp;4.4.1 Regplot for PLS Regression \n",
    "\n",
    "##### 4.5 Decision Tree Regressor \n",
    "\n",
    "&ensp;&ensp;&ensp;4.5.1 Regplot for Decision Tree Regressor \n",
    "\n",
    "##### 4.6 Gradient Boosting Regressor \n",
    "\n",
    "&ensp;&ensp;&ensp;4.6.1 Regplt for Gradient Boosting Regressor\n",
    "\n",
    "##### 4.7 MLP Regressor \n",
    "\n",
    "&ensp;&ensp;&ensp;4.7.1 Regplot of MLP  Regressor \n",
    "\n",
    "4.8 Dataframe of Machine Learning Models \n",
    "\n",
    "##### 4.9 (a). Barplot of machine learning models with mean absolute error \n",
    "\n",
    "##### 4.9 (b). Barplot of machine learning models with mean squared error \n",
    "\n",
    "### 5. Conclusion \n",
    "\n",
    "-----------------------------------------------------------------------------------------------------------------------------\n",
    "\n",
    "### 1.4 Importing libraries\n",
    "We would be importing some of the libraries for understanding the data, visualizing and getting a good idea about the machine learning models. Below are some of the libraries that would be imported. "
   ]
  },
  {
   "cell_type": "code",
   "execution_count": 2,
   "metadata": {},
   "outputs": [],
   "source": [
    "import pandas as pd \n",
    "import seaborn as sns\n",
    "import matplotlib.pyplot as plt\n",
    "import numpy as np\n",
    "from sklearn.preprocessing import OneHotEncoder, StandardScaler, MinMaxScaler \n",
    "from sklearn.model_selection import GridSearchCV, train_test_split, KFold, cross_val_score\n",
    "from sklearn.linear_model import LinearRegression\n",
    "from sklearn.metrics import r2_score, mean_squared_error, accuracy_score, mean_absolute_error, mean_squared_error\n",
    "from sklearn.ensemble import GradientBoostingRegressor\n",
    "from sklearn.neural_network import MLPRegressor\n",
    "from sklearn.svm import SVR\n",
    "from sklearn.neighbors import KNeighborsRegressor\n",
    "from sklearn.cross_decomposition import PLSRegression\n",
    "from sklearn.tree import DecisionTreeRegressor\n",
    "import missingno as msno\n",
    "from sklearn.utils import shuffle \n",
    "from category_encoders import TargetEncoder, OneHotEncoder\n",
    "import warnings\n",
    "warnings.filterwarnings(\"ignore\")\n",
    "sns.set(rc = {'figure.figsize': (20, 20)})\n",
    "%matplotlib inline "
   ]
  },
  {
   "cell_type": "markdown",
   "metadata": {},
   "source": [
    "## 1.5 Reading the data\n",
    "We would be using pandas to read the data. We would be storing that in a variable called 'data' for various calculations later. "
   ]
  },
  {
   "cell_type": "code",
   "execution_count": 3,
   "metadata": {},
   "outputs": [],
   "source": [
    "data = pd.read_csv('data/data.csv')"
   ]
  },
  {
   "cell_type": "code",
   "execution_count": 4,
   "metadata": {},
   "outputs": [
    {
     "data": {
      "text/plain": [
       "(11914, 16)"
      ]
     },
     "execution_count": 4,
     "metadata": {},
     "output_type": "execute_result"
    }
   ],
   "source": [
    "data.shape"
   ]
  },
  {
   "cell_type": "code",
   "execution_count": 5,
   "metadata": {},
   "outputs": [
    {
     "data": {
      "text/html": [
       "<div>\n",
       "<style scoped>\n",
       "    .dataframe tbody tr th:only-of-type {\n",
       "        vertical-align: middle;\n",
       "    }\n",
       "\n",
       "    .dataframe tbody tr th {\n",
       "        vertical-align: top;\n",
       "    }\n",
       "\n",
       "    .dataframe thead th {\n",
       "        text-align: right;\n",
       "    }\n",
       "</style>\n",
       "<table border=\"1\" class=\"dataframe\">\n",
       "  <thead>\n",
       "    <tr style=\"text-align: right;\">\n",
       "      <th></th>\n",
       "      <th>Make</th>\n",
       "      <th>Model</th>\n",
       "      <th>Year</th>\n",
       "      <th>Engine Fuel Type</th>\n",
       "      <th>Engine HP</th>\n",
       "      <th>Engine Cylinders</th>\n",
       "      <th>Transmission Type</th>\n",
       "      <th>Driven_Wheels</th>\n",
       "      <th>Number of Doors</th>\n",
       "      <th>Market Category</th>\n",
       "      <th>Vehicle Size</th>\n",
       "      <th>Vehicle Style</th>\n",
       "      <th>highway MPG</th>\n",
       "      <th>city mpg</th>\n",
       "      <th>Popularity</th>\n",
       "      <th>MSRP</th>\n",
       "    </tr>\n",
       "  </thead>\n",
       "  <tbody>\n",
       "    <tr>\n",
       "      <th>0</th>\n",
       "      <td>BMW</td>\n",
       "      <td>1 Series M</td>\n",
       "      <td>2011</td>\n",
       "      <td>premium unleaded (required)</td>\n",
       "      <td>335.0</td>\n",
       "      <td>6.0</td>\n",
       "      <td>MANUAL</td>\n",
       "      <td>rear wheel drive</td>\n",
       "      <td>2.0</td>\n",
       "      <td>Factory Tuner,Luxury,High-Performance</td>\n",
       "      <td>Compact</td>\n",
       "      <td>Coupe</td>\n",
       "      <td>26</td>\n",
       "      <td>19</td>\n",
       "      <td>3916</td>\n",
       "      <td>46135</td>\n",
       "    </tr>\n",
       "    <tr>\n",
       "      <th>1</th>\n",
       "      <td>BMW</td>\n",
       "      <td>1 Series</td>\n",
       "      <td>2011</td>\n",
       "      <td>premium unleaded (required)</td>\n",
       "      <td>300.0</td>\n",
       "      <td>6.0</td>\n",
       "      <td>MANUAL</td>\n",
       "      <td>rear wheel drive</td>\n",
       "      <td>2.0</td>\n",
       "      <td>Luxury,Performance</td>\n",
       "      <td>Compact</td>\n",
       "      <td>Convertible</td>\n",
       "      <td>28</td>\n",
       "      <td>19</td>\n",
       "      <td>3916</td>\n",
       "      <td>40650</td>\n",
       "    </tr>\n",
       "    <tr>\n",
       "      <th>2</th>\n",
       "      <td>BMW</td>\n",
       "      <td>1 Series</td>\n",
       "      <td>2011</td>\n",
       "      <td>premium unleaded (required)</td>\n",
       "      <td>300.0</td>\n",
       "      <td>6.0</td>\n",
       "      <td>MANUAL</td>\n",
       "      <td>rear wheel drive</td>\n",
       "      <td>2.0</td>\n",
       "      <td>Luxury,High-Performance</td>\n",
       "      <td>Compact</td>\n",
       "      <td>Coupe</td>\n",
       "      <td>28</td>\n",
       "      <td>20</td>\n",
       "      <td>3916</td>\n",
       "      <td>36350</td>\n",
       "    </tr>\n",
       "    <tr>\n",
       "      <th>3</th>\n",
       "      <td>BMW</td>\n",
       "      <td>1 Series</td>\n",
       "      <td>2011</td>\n",
       "      <td>premium unleaded (required)</td>\n",
       "      <td>230.0</td>\n",
       "      <td>6.0</td>\n",
       "      <td>MANUAL</td>\n",
       "      <td>rear wheel drive</td>\n",
       "      <td>2.0</td>\n",
       "      <td>Luxury,Performance</td>\n",
       "      <td>Compact</td>\n",
       "      <td>Coupe</td>\n",
       "      <td>28</td>\n",
       "      <td>18</td>\n",
       "      <td>3916</td>\n",
       "      <td>29450</td>\n",
       "    </tr>\n",
       "    <tr>\n",
       "      <th>4</th>\n",
       "      <td>BMW</td>\n",
       "      <td>1 Series</td>\n",
       "      <td>2011</td>\n",
       "      <td>premium unleaded (required)</td>\n",
       "      <td>230.0</td>\n",
       "      <td>6.0</td>\n",
       "      <td>MANUAL</td>\n",
       "      <td>rear wheel drive</td>\n",
       "      <td>2.0</td>\n",
       "      <td>Luxury</td>\n",
       "      <td>Compact</td>\n",
       "      <td>Convertible</td>\n",
       "      <td>28</td>\n",
       "      <td>18</td>\n",
       "      <td>3916</td>\n",
       "      <td>34500</td>\n",
       "    </tr>\n",
       "  </tbody>\n",
       "</table>\n",
       "</div>"
      ],
      "text/plain": [
       "  Make       Model  Year             Engine Fuel Type  Engine HP  \\\n",
       "0  BMW  1 Series M  2011  premium unleaded (required)      335.0   \n",
       "1  BMW    1 Series  2011  premium unleaded (required)      300.0   \n",
       "2  BMW    1 Series  2011  premium unleaded (required)      300.0   \n",
       "3  BMW    1 Series  2011  premium unleaded (required)      230.0   \n",
       "4  BMW    1 Series  2011  premium unleaded (required)      230.0   \n",
       "\n",
       "   Engine Cylinders Transmission Type     Driven_Wheels  Number of Doors  \\\n",
       "0               6.0            MANUAL  rear wheel drive              2.0   \n",
       "1               6.0            MANUAL  rear wheel drive              2.0   \n",
       "2               6.0            MANUAL  rear wheel drive              2.0   \n",
       "3               6.0            MANUAL  rear wheel drive              2.0   \n",
       "4               6.0            MANUAL  rear wheel drive              2.0   \n",
       "\n",
       "                         Market Category Vehicle Size Vehicle Style  \\\n",
       "0  Factory Tuner,Luxury,High-Performance      Compact         Coupe   \n",
       "1                     Luxury,Performance      Compact   Convertible   \n",
       "2                Luxury,High-Performance      Compact         Coupe   \n",
       "3                     Luxury,Performance      Compact         Coupe   \n",
       "4                                 Luxury      Compact   Convertible   \n",
       "\n",
       "   highway MPG  city mpg  Popularity   MSRP  \n",
       "0           26        19        3916  46135  \n",
       "1           28        19        3916  40650  \n",
       "2           28        20        3916  36350  \n",
       "3           28        18        3916  29450  \n",
       "4           28        18        3916  34500  "
      ]
     },
     "execution_count": 5,
     "metadata": {},
     "output_type": "execute_result"
    }
   ],
   "source": [
    "data.head()"
   ]
  },
  {
   "cell_type": "markdown",
   "metadata": {},
   "source": [
    "## 2.1 Countplot \n",
    "\n",
    "Countplots are used with the help of seaborn library in python. These plots give us a good understanding of the total number of elements present in a particular feature that we have considered. Below are a list of countplots for different features of interest which would help in understanding the overall distribution of data based on different features. Therefore, taking a look at these plots would ensure that one is familiar with the data along with the total number of classes for different features respectively. "
   ]
  },
  {
   "cell_type": "markdown",
   "metadata": {},
   "source": [
    "## 2.1.1 Countplot of different car companies\n",
    "\n",
    "We would be using seaborn's countplot to check the total number of cars per company that we have in our dataset. We see that there are more than 1000 cars for the company 'Chevrolet' in our dataset. We also see that there just a few cars for companies such as 'Bugatti' and 'Genesis' which is reflective of the real-world as we don't find different models of these cars. A countplot could really give us a good understanding of the data that we are working. "
   ]
  },
  {
   "cell_type": "code",
   "execution_count": 6,
   "metadata": {},
   "outputs": [
    {
     "data": {
      "image/png": "[encoded data removed]",
      "text/plain": [
       "<Figure size 2000x1500 with 1 Axes>"
      ]
     },
     "metadata": {},
     "output_type": "display_data"
    }
   ],
   "source": [
    "plt.figure(figsize = (20, 15))\n",
    "sns.countplot(y = data.Make)\n",
    "plt.title(\"Car companies with their cars\", fontsize = 20)\n",
    "plt.show()"
   ]
  },
  {
   "cell_type": "markdown",
   "metadata": {},
   "source": [
    "## 2.1.2 Countplot of the total cars per different years\n",
    "\n",
    "We would be checking the total number of cars per year just to understand the data. We find that there are many cars in the years 2015 to 2017 compared to the other years in our dataset. From this visualization, we can get an understanding that most of our data contains recent values. This is a good dataset as we are more interested in the prices of the future cars. It would be better if we have the most recent values as they would help us well in our predictions. "
   ]
  },
  {
   "cell_type": "code",
   "execution_count": null,
   "metadata": {},
   "outputs": [],
   "source": [
    "plt.figure(figsize = (20, 15))\n",
    "sns.countplot(x=data.Year, palette='viridis')\n",
    "plt.title(\"Number of cars in different years\", fontsize = 20)\n",
    "plt.show()"
   ]
  },
  {
   "cell_type": "markdown",
   "metadata": {},
   "source": [
    "## 2.1.3 Counting the cars based on transmission type\n",
    "\n",
    "We are all interested in cars that are automatic as they are really easy to handle and efficient. In addition to this, most of the manual cars are being replaced by automatic cars and thus, we don't have a lot of demand for manual cars. That is being reflected here in the dataset. We see that when we see the total number of cars based on transmission type, we find that there are many automatic cars as compared to the cars that are manual. There are a few automatic_manual cars that is second option for the buyer of the cars. Thus, we could see that most of the cars that we have chosen in our dataset are automatic. "
   ]
  },
  {
   "cell_type": "code",
   "execution_count": 8,
   "metadata": {},
   "outputs": [
    {
     "data": {
      "image/png": "[encoded data removed]",
      "text/plain": [
       "<Figure size 1000x1000 with 1 Axes>"
      ]
     },
     "metadata": {},
     "output_type": "display_data"
    }
   ],
   "source": [
    "plt.figure(figsize = (10, 10))\n",
    "sns.countplot(data['Transmission Type'], palette = 'Paired')\n",
    "plt.title(\"Transmission Type\", fontsize = 20)\n",
    "plt.show()"
   ]
  },
  {
   "cell_type": "markdown",
   "metadata": {},
   "source": [
    "## Getting the unique elements from the data\n",
    "\n",
    "We see from the below that there are a few categories for features such as 'Number of Doors', 'Vehicle Size', 'Driven_Wheels' and so on. That is what is expected as we should not have a lot of categories for the above mentioned features. In addition to this, we see that there are a few features that contain a lot of categories. Some of the features include 'Model', 'Engine HP' and so on. That is also what is expected in real life as we should have different models for cars and also different values of horsepower (hp)."
   ]
  },
  {
   "cell_type": "code",
   "execution_count": 9,
   "metadata": {},
   "outputs": [
    {
     "data": {
      "text/plain": [
       "Make                   48\n",
       "Model                 915\n",
       "Year                   28\n",
       "Engine Fuel Type       10\n",
       "Engine HP             356\n",
       "Engine Cylinders        9\n",
       "Transmission Type       5\n",
       "Driven_Wheels           4\n",
       "Number of Doors         3\n",
       "Market Category        71\n",
       "Vehicle Size            3\n",
       "Vehicle Style          16\n",
       "highway MPG            59\n",
       "city mpg               69\n",
       "Popularity             48\n",
       "MSRP                 6049\n",
       "dtype: int64"
      ]
     },
     "execution_count": 9,
     "metadata": {},
     "output_type": "execute_result"
    }
   ],
   "source": [
    "data.nunique()"
   ]
  },
  {
   "cell_type": "code",
   "execution_count": 10,
   "metadata": {},
   "outputs": [
    {
     "data": {
      "text/html": [
       "<div>\n",
       "<style scoped>\n",
       "    .dataframe tbody tr th:only-of-type {\n",
       "        vertical-align: middle;\n",
       "    }\n",
       "\n",
       "    .dataframe tbody tr th {\n",
       "        vertical-align: top;\n",
       "    }\n",
       "\n",
       "    .dataframe thead th {\n",
       "        text-align: right;\n",
       "    }\n",
       "</style>\n",
       "<table border=\"1\" class=\"dataframe\">\n",
       "  <thead>\n",
       "    <tr style=\"text-align: right;\">\n",
       "      <th></th>\n",
       "      <th>Make</th>\n",
       "      <th>Model</th>\n",
       "      <th>Year</th>\n",
       "      <th>Engine Fuel Type</th>\n",
       "      <th>Engine HP</th>\n",
       "      <th>Engine Cylinders</th>\n",
       "      <th>Transmission Type</th>\n",
       "      <th>Driven_Wheels</th>\n",
       "      <th>Number of Doors</th>\n",
       "      <th>Market Category</th>\n",
       "      <th>Vehicle Size</th>\n",
       "      <th>Vehicle Style</th>\n",
       "      <th>highway MPG</th>\n",
       "      <th>city mpg</th>\n",
       "      <th>Popularity</th>\n",
       "      <th>MSRP</th>\n",
       "    </tr>\n",
       "  </thead>\n",
       "  <tbody>\n",
       "    <tr>\n",
       "      <th>0</th>\n",
       "      <td>BMW</td>\n",
       "      <td>1 Series M</td>\n",
       "      <td>2011</td>\n",
       "      <td>premium unleaded (required)</td>\n",
       "      <td>335.0</td>\n",
       "      <td>6.0</td>\n",
       "      <td>MANUAL</td>\n",
       "      <td>rear wheel drive</td>\n",
       "      <td>2.0</td>\n",
       "      <td>Factory Tuner,Luxury,High-Performance</td>\n",
       "      <td>Compact</td>\n",
       "      <td>Coupe</td>\n",
       "      <td>26</td>\n",
       "      <td>19</td>\n",
       "      <td>3916</td>\n",
       "      <td>46135</td>\n",
       "    </tr>\n",
       "    <tr>\n",
       "      <th>1</th>\n",
       "      <td>BMW</td>\n",
       "      <td>1 Series</td>\n",
       "      <td>2011</td>\n",
       "      <td>premium unleaded (required)</td>\n",
       "      <td>300.0</td>\n",
       "      <td>6.0</td>\n",
       "      <td>MANUAL</td>\n",
       "      <td>rear wheel drive</td>\n",
       "      <td>2.0</td>\n",
       "      <td>Luxury,Performance</td>\n",
       "      <td>Compact</td>\n",
       "      <td>Convertible</td>\n",
       "      <td>28</td>\n",
       "      <td>19</td>\n",
       "      <td>3916</td>\n",
       "      <td>40650</td>\n",
       "    </tr>\n",
       "    <tr>\n",
       "      <th>2</th>\n",
       "      <td>BMW</td>\n",
       "      <td>1 Series</td>\n",
       "      <td>2011</td>\n",
       "      <td>premium unleaded (required)</td>\n",
       "      <td>300.0</td>\n",
       "      <td>6.0</td>\n",
       "      <td>MANUAL</td>\n",
       "      <td>rear wheel drive</td>\n",
       "      <td>2.0</td>\n",
       "      <td>Luxury,High-Performance</td>\n",
       "      <td>Compact</td>\n",
       "      <td>Coupe</td>\n",
       "      <td>28</td>\n",
       "      <td>20</td>\n",
       "      <td>3916</td>\n",
       "      <td>36350</td>\n",
       "    </tr>\n",
       "    <tr>\n",
       "      <th>3</th>\n",
       "      <td>BMW</td>\n",
       "      <td>1 Series</td>\n",
       "      <td>2011</td>\n",
       "      <td>premium unleaded (required)</td>\n",
       "      <td>230.0</td>\n",
       "      <td>6.0</td>\n",
       "      <td>MANUAL</td>\n",
       "      <td>rear wheel drive</td>\n",
       "      <td>2.0</td>\n",
       "      <td>Luxury,Performance</td>\n",
       "      <td>Compact</td>\n",
       "      <td>Coupe</td>\n",
       "      <td>28</td>\n",
       "      <td>18</td>\n",
       "      <td>3916</td>\n",
       "      <td>29450</td>\n",
       "    </tr>\n",
       "    <tr>\n",
       "      <th>4</th>\n",
       "      <td>BMW</td>\n",
       "      <td>1 Series</td>\n",
       "      <td>2011</td>\n",
       "      <td>premium unleaded (required)</td>\n",
       "      <td>230.0</td>\n",
       "      <td>6.0</td>\n",
       "      <td>MANUAL</td>\n",
       "      <td>rear wheel drive</td>\n",
       "      <td>2.0</td>\n",
       "      <td>Luxury</td>\n",
       "      <td>Compact</td>\n",
       "      <td>Convertible</td>\n",
       "      <td>28</td>\n",
       "      <td>18</td>\n",
       "      <td>3916</td>\n",
       "      <td>34500</td>\n",
       "    </tr>\n",
       "  </tbody>\n",
       "</table>\n",
       "</div>"
      ],
      "text/plain": [
       "  Make       Model  Year             Engine Fuel Type  Engine HP  \\\n",
       "0  BMW  1 Series M  2011  premium unleaded (required)      335.0   \n",
       "1  BMW    1 Series  2011  premium unleaded (required)      300.0   \n",
       "2  BMW    1 Series  2011  premium unleaded (required)      300.0   \n",
       "3  BMW    1 Series  2011  premium unleaded (required)      230.0   \n",
       "4  BMW    1 Series  2011  premium unleaded (required)      230.0   \n",
       "\n",
       "   Engine Cylinders Transmission Type     Driven_Wheels  Number of Doors  \\\n",
       "0               6.0            MANUAL  rear wheel drive              2.0   \n",
       "1               6.0            MANUAL  rear wheel drive              2.0   \n",
       "2               6.0            MANUAL  rear wheel drive              2.0   \n",
       "3               6.0            MANUAL  rear wheel drive              2.0   \n",
       "4               6.0            MANUAL  rear wheel drive              2.0   \n",
       "\n",
       "                         Market Category Vehicle Size Vehicle Style  \\\n",
       "0  Factory Tuner,Luxury,High-Performance      Compact         Coupe   \n",
       "1                     Luxury,Performance      Compact   Convertible   \n",
       "2                Luxury,High-Performance      Compact         Coupe   \n",
       "3                     Luxury,Performance      Compact         Coupe   \n",
       "4                                 Luxury      Compact   Convertible   \n",
       "\n",
       "   highway MPG  city mpg  Popularity   MSRP  \n",
       "0           26        19        3916  46135  \n",
       "1           28        19        3916  40650  \n",
       "2           28        20        3916  36350  \n",
       "3           28        18        3916  29450  \n",
       "4           28        18        3916  34500  "
      ]
     },
     "execution_count": 10,
     "metadata": {},
     "output_type": "execute_result"
    }
   ],
   "source": [
    "data.head()"
   ]
  },
  {
   "cell_type": "markdown",
   "metadata": {},
   "source": [
    "## 2.1.4 Countplot of Engine Fuel Type\n",
    "\n",
    "We would be counting the total number of values for 'Engine Fuel Type' feature. We see that there are more than a majority of cars that have 'regular unleaded' as their category. Apart from this, there are other categories such as 'premium unleaded (required)' and 'premium unleaded (recommended)' which could also be taken into consideration. Moreover, we have a few few cars that are electric in our data. That is what is expectd as in real-life, we don't find a lot of electric cars (hope they replace our conventional cars leading to safer environment! Just kidding). "
   ]
  },
  {
   "cell_type": "code",
   "execution_count": 11,
   "metadata": {},
   "outputs": [
    {
     "data": {
      "text/plain": [
       "<AxesSubplot:xlabel='count', ylabel='Engine Fuel Type'>"
      ]
     },
     "execution_count": 11,
     "metadata": {},
     "output_type": "execute_result"
    },
    {
     "data": {
      "image/png": "[encoded data removed]",
      "text/plain": [
       "<Figure size 1500x1000 with 1 Axes>"
      ]
     },
     "metadata": {},
     "output_type": "display_data"
    }
   ],
   "source": [
    "plt.figure(figsize = (15, 10))\n",
    "sns.countplot(y = data['Engine Fuel Type'].sort_values(ascending = False), palette = 'Dark2')"
   ]
  },
  {
   "cell_type": "markdown",
   "metadata": {},
   "source": [
    "## 2.1.5 Countplot of Vehicle Size \n",
    "\n",
    "There are mostly compact cars in our data followed by Midsize cars. There are just a few cars that are large compared to compact and midsize cars. This is typical of the real world data as we don't have a lot of cars that are large. We see a lot of cars to be compact and midsize in real life too! Great we are doing a good job selecting this data. "
   ]
  },
  {
   "cell_type": "code",
   "execution_count": 12,
   "metadata": {
    "scrolled": true
   },
   "outputs": [
    {
     "data": {
      "text/plain": [
       "<AxesSubplot:xlabel='Vehicle Size', ylabel='count'>"
      ]
     },
     "execution_count": 12,
     "metadata": {},
     "output_type": "execute_result"
    },
    {
     "data": {
      "image/png": "[encoded data removed]",
      "text/plain": [
       "<Figure size 1000x1000 with 1 Axes>"
      ]
     },
     "metadata": {},
     "output_type": "display_data"
    }
   ],
   "source": [
    "plt.figure(figsize = (10, 10))\n",
    "sns.countplot(x = 'Vehicle Size', data = data, palette = 'Set1')"
   ]
  },
  {
   "cell_type": "markdown",
   "metadata": {},
   "source": [
    "## 2.2 Missingno\n",
    "\n",
    "We would be making the use of Missingno library from python. It is a very good graphical representation of missing values in our data. We see that there are many missing values in 'Market Category' feature. There are also a few missing values in 'Engine HP', 'Engine Cylinders' and 'Number of Doors' respectively. This library could be used to plot the missing values present in our data even when there is a huge data present. Therefore, we could use this library for understanding the missing values in our data.  "
   ]
  },
  {
   "cell_type": "code",
   "execution_count": 1,
   "metadata": {},
   "outputs": [
    {
     "ename": "NameError",
     "evalue": "name 'msno' is not defined",
     "output_type": "error",
     "traceback": [
      "\u001b[1;31m---------------------------------------------------------------------------\u001b[0m",
      "\u001b[1;31mNameError\u001b[0m                                 Traceback (most recent call last)",
      "Cell \u001b[1;32mIn[1], line 1\u001b[0m\n\u001b[1;32m----> 1\u001b[0m \u001b[43mmsno\u001b[49m\u001b[38;5;241m.\u001b[39mmatrix(data, color \u001b[38;5;241m=\u001b[39m (\u001b[38;5;241m0.5\u001b[39m, \u001b[38;5;241m0.5\u001b[39m, \u001b[38;5;241m0.5\u001b[39m))\n",
      "\u001b[1;31mNameError\u001b[0m: name 'msno' is not defined"
     ]
    }
   ],
   "source": [
    "msno.matrix(data, color = (0.5, 0.5, 0.5))"
   ]
  },
  {
   "cell_type": "markdown",
   "metadata": {},
   "source": [
    "## 2.3 Groupby \n",
    "\n",
    "Groupby is a good useful function in python where the values are grouped based on feature (or) features that we give to the groupby function and things such as mean, median, mode or other aggregate functions could be performed once the data values are grouped together. Below are some of the plots which are made possible with the help of groupy function in python. For demonstration, I have created a groupby table below which shows the grouping of cars based on their make. In addition to this, there are various features that I have taken after grouping the values which are \"Engine HP\", \"Engine Cylinders\", \"highway MPG\" and \"city mpg\" features respectively. "
   ]
  },
  {
   "cell_type": "markdown",
   "metadata": {},
   "source": [
    "## 2.3.1 Groupby with 'Make' feature\n",
    "\n",
    "We would be making use of groupby which would take into consideration the feature that would be grouped on and it would perform different operations after grouping such as finding the minimum element in particular group, maximum element in a particular group and so on. Therefore, we would be making use of this in groupby as it makes life simple in python. Here, we see that we have grouped the data on the basis of 'Make' and considered a few features such as 'Engine HP', 'Engine Cylinders', 'highway MPG' and 'city mpg'. We would be then looking at the maximum values, minimum values and mean of the data. We could see a very good depiction of the result below. "
   ]
  },
  {
   "cell_type": "code",
   "execution_count": 19,
   "metadata": {
    "scrolled": true
   },
   "outputs": [
    {
     "data": {
      "text/html": [
       "<div>\n",
       "<style scoped>\n",
       "    .dataframe tbody tr th:only-of-type {\n",
       "        vertical-align: middle;\n",
       "    }\n",
       "\n",
       "    .dataframe tbody tr th {\n",
       "        vertical-align: top;\n",
       "    }\n",
       "\n",
       "    .dataframe thead tr th {\n",
       "        text-align: left;\n",
       "    }\n",
       "\n",
       "    .dataframe thead tr:last-of-type th {\n",
       "        text-align: right;\n",
       "    }\n",
       "</style>\n",
       "<table border=\"1\" class=\"dataframe\">\n",
       "  <thead>\n",
       "    <tr>\n",
       "      <th></th>\n",
       "      <th colspan=\"3\" halign=\"left\">Engine HP</th>\n",
       "      <th colspan=\"3\" halign=\"left\">Engine Cylinders</th>\n",
       "      <th colspan=\"3\" halign=\"left\">highway MPG</th>\n",
       "      <th colspan=\"3\" halign=\"left\">city mpg</th>\n",
       "    </tr>\n",
       "    <tr>\n",
       "      <th></th>\n",
       "      <th>min</th>\n",
       "      <th>max</th>\n",
       "      <th>mean</th>\n",
       "      <th>min</th>\n",
       "      <th>max</th>\n",
       "      <th>mean</th>\n",
       "      <th>min</th>\n",
       "      <th>max</th>\n",
       "      <th>mean</th>\n",
       "      <th>min</th>\n",
       "      <th>max</th>\n",
       "      <th>mean</th>\n",
       "    </tr>\n",
       "    <tr>\n",
       "      <th>Make</th>\n",
       "      <th></th>\n",
       "      <th></th>\n",
       "      <th></th>\n",
       "      <th></th>\n",
       "      <th></th>\n",
       "      <th></th>\n",
       "      <th></th>\n",
       "      <th></th>\n",
       "      <th></th>\n",
       "      <th></th>\n",
       "      <th></th>\n",
       "      <th></th>\n",
       "    </tr>\n",
       "  </thead>\n",
       "  <tbody>\n",
       "    <tr>\n",
       "      <th>Acura</th>\n",
       "      <td>111.0</td>\n",
       "      <td>573.0</td>\n",
       "      <td>244.797619</td>\n",
       "      <td>4.0</td>\n",
       "      <td>6.0</td>\n",
       "      <td>5.333333</td>\n",
       "      <td>17</td>\n",
       "      <td>38</td>\n",
       "      <td>28.111111</td>\n",
       "      <td>13</td>\n",
       "      <td>39</td>\n",
       "      <td>19.940476</td>\n",
       "    </tr>\n",
       "    <tr>\n",
       "      <th>Alfa Romeo</th>\n",
       "      <td>237.0</td>\n",
       "      <td>237.0</td>\n",
       "      <td>237.000000</td>\n",
       "      <td>4.0</td>\n",
       "      <td>4.0</td>\n",
       "      <td>4.000000</td>\n",
       "      <td>34</td>\n",
       "      <td>34</td>\n",
       "      <td>34.000000</td>\n",
       "      <td>24</td>\n",
       "      <td>24</td>\n",
       "      <td>24.000000</td>\n",
       "    </tr>\n",
       "    <tr>\n",
       "      <th>Aston Martin</th>\n",
       "      <td>420.0</td>\n",
       "      <td>568.0</td>\n",
       "      <td>484.322581</td>\n",
       "      <td>8.0</td>\n",
       "      <td>12.0</td>\n",
       "      <td>10.623656</td>\n",
       "      <td>15</td>\n",
       "      <td>22</td>\n",
       "      <td>18.892473</td>\n",
       "      <td>9</td>\n",
       "      <td>14</td>\n",
       "      <td>12.526882</td>\n",
       "    </tr>\n",
       "    <tr>\n",
       "      <th>Audi</th>\n",
       "      <td>108.0</td>\n",
       "      <td>610.0</td>\n",
       "      <td>277.695122</td>\n",
       "      <td>4.0</td>\n",
       "      <td>12.0</td>\n",
       "      <td>5.557927</td>\n",
       "      <td>18</td>\n",
       "      <td>354</td>\n",
       "      <td>28.823171</td>\n",
       "      <td>11</td>\n",
       "      <td>31</td>\n",
       "      <td>19.585366</td>\n",
       "    </tr>\n",
       "    <tr>\n",
       "      <th>BMW</th>\n",
       "      <td>170.0</td>\n",
       "      <td>600.0</td>\n",
       "      <td>326.907186</td>\n",
       "      <td>0.0</td>\n",
       "      <td>12.0</td>\n",
       "      <td>5.958084</td>\n",
       "      <td>18</td>\n",
       "      <td>111</td>\n",
       "      <td>29.245509</td>\n",
       "      <td>10</td>\n",
       "      <td>137</td>\n",
       "      <td>20.739521</td>\n",
       "    </tr>\n",
       "    <tr>\n",
       "      <th>Bentley</th>\n",
       "      <td>400.0</td>\n",
       "      <td>631.0</td>\n",
       "      <td>533.851351</td>\n",
       "      <td>8.0</td>\n",
       "      <td>12.0</td>\n",
       "      <td>9.729730</td>\n",
       "      <td>14</td>\n",
       "      <td>25</td>\n",
       "      <td>18.905405</td>\n",
       "      <td>9</td>\n",
       "      <td>15</td>\n",
       "      <td>11.554054</td>\n",
       "    </tr>\n",
       "    <tr>\n",
       "      <th>Bugatti</th>\n",
       "      <td>1001.0</td>\n",
       "      <td>1001.0</td>\n",
       "      <td>1001.000000</td>\n",
       "      <td>16.0</td>\n",
       "      <td>16.0</td>\n",
       "      <td>16.000000</td>\n",
       "      <td>14</td>\n",
       "      <td>14</td>\n",
       "      <td>14.000000</td>\n",
       "      <td>8</td>\n",
       "      <td>8</td>\n",
       "      <td>8.000000</td>\n",
       "    </tr>\n",
       "    <tr>\n",
       "      <th>Buick</th>\n",
       "      <td>138.0</td>\n",
       "      <td>310.0</td>\n",
       "      <td>219.244898</td>\n",
       "      <td>4.0</td>\n",
       "      <td>8.0</td>\n",
       "      <td>5.316327</td>\n",
       "      <td>19</td>\n",
       "      <td>36</td>\n",
       "      <td>26.948980</td>\n",
       "      <td>14</td>\n",
       "      <td>28</td>\n",
       "      <td>18.704082</td>\n",
       "    </tr>\n",
       "    <tr>\n",
       "      <th>Cadillac</th>\n",
       "      <td>140.0</td>\n",
       "      <td>640.0</td>\n",
       "      <td>332.309824</td>\n",
       "      <td>4.0</td>\n",
       "      <td>8.0</td>\n",
       "      <td>6.433249</td>\n",
       "      <td>18</td>\n",
       "      <td>33</td>\n",
       "      <td>25.236776</td>\n",
       "      <td>12</td>\n",
       "      <td>22</td>\n",
       "      <td>17.355164</td>\n",
       "    </tr>\n",
       "    <tr>\n",
       "      <th>Chevrolet</th>\n",
       "      <td>55.0</td>\n",
       "      <td>650.0</td>\n",
       "      <td>246.972247</td>\n",
       "      <td>0.0</td>\n",
       "      <td>8.0</td>\n",
       "      <td>5.908118</td>\n",
       "      <td>15</td>\n",
       "      <td>110</td>\n",
       "      <td>25.815672</td>\n",
       "      <td>11</td>\n",
       "      <td>128</td>\n",
       "      <td>19.021371</td>\n",
       "    </tr>\n",
       "    <tr>\n",
       "      <th>Chrysler</th>\n",
       "      <td>100.0</td>\n",
       "      <td>385.0</td>\n",
       "      <td>229.139037</td>\n",
       "      <td>4.0</td>\n",
       "      <td>8.0</td>\n",
       "      <td>5.593583</td>\n",
       "      <td>17</td>\n",
       "      <td>36</td>\n",
       "      <td>26.368984</td>\n",
       "      <td>12</td>\n",
       "      <td>23</td>\n",
       "      <td>17.759358</td>\n",
       "    </tr>\n",
       "    <tr>\n",
       "      <th>Dodge</th>\n",
       "      <td>92.0</td>\n",
       "      <td>707.0</td>\n",
       "      <td>244.415335</td>\n",
       "      <td>4.0</td>\n",
       "      <td>10.0</td>\n",
       "      <td>6.258786</td>\n",
       "      <td>12</td>\n",
       "      <td>41</td>\n",
       "      <td>22.345048</td>\n",
       "      <td>10</td>\n",
       "      <td>28</td>\n",
       "      <td>16.065495</td>\n",
       "    </tr>\n",
       "    <tr>\n",
       "      <th>FIAT</th>\n",
       "      <td>101.0</td>\n",
       "      <td>180.0</td>\n",
       "      <td>143.559322</td>\n",
       "      <td>0.0</td>\n",
       "      <td>4.0</td>\n",
       "      <td>3.806452</td>\n",
       "      <td>29</td>\n",
       "      <td>108</td>\n",
       "      <td>37.338710</td>\n",
       "      <td>21</td>\n",
       "      <td>122</td>\n",
       "      <td>30.645161</td>\n",
       "    </tr>\n",
       "    <tr>\n",
       "      <th>Ferrari</th>\n",
       "      <td>400.0</td>\n",
       "      <td>731.0</td>\n",
       "      <td>511.956522</td>\n",
       "      <td>8.0</td>\n",
       "      <td>12.0</td>\n",
       "      <td>9.797101</td>\n",
       "      <td>12</td>\n",
       "      <td>23</td>\n",
       "      <td>15.724638</td>\n",
       "      <td>7</td>\n",
       "      <td>16</td>\n",
       "      <td>10.565217</td>\n",
       "    </tr>\n",
       "    <tr>\n",
       "      <th>Ford</th>\n",
       "      <td>63.0</td>\n",
       "      <td>662.0</td>\n",
       "      <td>243.097926</td>\n",
       "      <td>0.0</td>\n",
       "      <td>8.0</td>\n",
       "      <td>5.914869</td>\n",
       "      <td>13</td>\n",
       "      <td>99</td>\n",
       "      <td>24.006810</td>\n",
       "      <td>11</td>\n",
       "      <td>110</td>\n",
       "      <td>17.960272</td>\n",
       "    </tr>\n",
       "    <tr>\n",
       "      <th>GMC</th>\n",
       "      <td>105.0</td>\n",
       "      <td>420.0</td>\n",
       "      <td>259.844660</td>\n",
       "      <td>4.0</td>\n",
       "      <td>8.0</td>\n",
       "      <td>6.454369</td>\n",
       "      <td>13</td>\n",
       "      <td>32</td>\n",
       "      <td>21.403883</td>\n",
       "      <td>10</td>\n",
       "      <td>22</td>\n",
       "      <td>15.813592</td>\n",
       "    </tr>\n",
       "    <tr>\n",
       "      <th>Genesis</th>\n",
       "      <td>311.0</td>\n",
       "      <td>420.0</td>\n",
       "      <td>347.333333</td>\n",
       "      <td>6.0</td>\n",
       "      <td>8.0</td>\n",
       "      <td>6.666667</td>\n",
       "      <td>23</td>\n",
       "      <td>28</td>\n",
       "      <td>25.333333</td>\n",
       "      <td>15</td>\n",
       "      <td>18</td>\n",
       "      <td>16.333333</td>\n",
       "    </tr>\n",
       "    <tr>\n",
       "      <th>HUMMER</th>\n",
       "      <td>239.0</td>\n",
       "      <td>300.0</td>\n",
       "      <td>261.235294</td>\n",
       "      <td>5.0</td>\n",
       "      <td>8.0</td>\n",
       "      <td>6.058824</td>\n",
       "      <td>16</td>\n",
       "      <td>18</td>\n",
       "      <td>17.294118</td>\n",
       "      <td>13</td>\n",
       "      <td>14</td>\n",
       "      <td>13.529412</td>\n",
       "    </tr>\n",
       "    <tr>\n",
       "      <th>Honda</th>\n",
       "      <td>62.0</td>\n",
       "      <td>280.0</td>\n",
       "      <td>195.749441</td>\n",
       "      <td>0.0</td>\n",
       "      <td>6.0</td>\n",
       "      <td>4.659243</td>\n",
       "      <td>18</td>\n",
       "      <td>105</td>\n",
       "      <td>32.574610</td>\n",
       "      <td>14</td>\n",
       "      <td>132</td>\n",
       "      <td>25.443207</td>\n",
       "    </tr>\n",
       "    <tr>\n",
       "      <th>Hyundai</th>\n",
       "      <td>81.0</td>\n",
       "      <td>429.0</td>\n",
       "      <td>201.917492</td>\n",
       "      <td>4.0</td>\n",
       "      <td>8.0</td>\n",
       "      <td>4.666667</td>\n",
       "      <td>21</td>\n",
       "      <td>45</td>\n",
       "      <td>30.392739</td>\n",
       "      <td>15</td>\n",
       "      <td>40</td>\n",
       "      <td>22.343234</td>\n",
       "    </tr>\n",
       "    <tr>\n",
       "      <th>Infiniti</th>\n",
       "      <td>145.0</td>\n",
       "      <td>420.0</td>\n",
       "      <td>310.066667</td>\n",
       "      <td>4.0</td>\n",
       "      <td>8.0</td>\n",
       "      <td>6.151515</td>\n",
       "      <td>17</td>\n",
       "      <td>36</td>\n",
       "      <td>24.778788</td>\n",
       "      <td>12</td>\n",
       "      <td>29</td>\n",
       "      <td>17.827273</td>\n",
       "    </tr>\n",
       "    <tr>\n",
       "      <th>Kia</th>\n",
       "      <td>125.0</td>\n",
       "      <td>420.0</td>\n",
       "      <td>206.827434</td>\n",
       "      <td>0.0</td>\n",
       "      <td>8.0</td>\n",
       "      <td>4.588745</td>\n",
       "      <td>20</td>\n",
       "      <td>92</td>\n",
       "      <td>30.653680</td>\n",
       "      <td>15</td>\n",
       "      <td>120</td>\n",
       "      <td>23.848485</td>\n",
       "    </tr>\n",
       "    <tr>\n",
       "      <th>Lamborghini</th>\n",
       "      <td>550.0</td>\n",
       "      <td>750.0</td>\n",
       "      <td>614.076923</td>\n",
       "      <td>10.0</td>\n",
       "      <td>12.0</td>\n",
       "      <td>10.884615</td>\n",
       "      <td>12</td>\n",
       "      <td>21</td>\n",
       "      <td>18.019231</td>\n",
       "      <td>8</td>\n",
       "      <td>15</td>\n",
       "      <td>11.519231</td>\n",
       "    </tr>\n",
       "    <tr>\n",
       "      <th>Land Rover</th>\n",
       "      <td>174.0</td>\n",
       "      <td>550.0</td>\n",
       "      <td>322.097902</td>\n",
       "      <td>4.0</td>\n",
       "      <td>8.0</td>\n",
       "      <td>6.125874</td>\n",
       "      <td>14</td>\n",
       "      <td>30</td>\n",
       "      <td>22.125874</td>\n",
       "      <td>11</td>\n",
       "      <td>22</td>\n",
       "      <td>16.230769</td>\n",
       "    </tr>\n",
       "    <tr>\n",
       "      <th>Lexus</th>\n",
       "      <td>134.0</td>\n",
       "      <td>552.0</td>\n",
       "      <td>277.415842</td>\n",
       "      <td>4.0</td>\n",
       "      <td>10.0</td>\n",
       "      <td>6.247525</td>\n",
       "      <td>14</td>\n",
       "      <td>40</td>\n",
       "      <td>25.876238</td>\n",
       "      <td>11</td>\n",
       "      <td>43</td>\n",
       "      <td>20.311881</td>\n",
       "    </tr>\n",
       "    <tr>\n",
       "      <th>Lincoln</th>\n",
       "      <td>188.0</td>\n",
       "      <td>380.0</td>\n",
       "      <td>284.910256</td>\n",
       "      <td>4.0</td>\n",
       "      <td>8.0</td>\n",
       "      <td>6.073171</td>\n",
       "      <td>15</td>\n",
       "      <td>39</td>\n",
       "      <td>24.487805</td>\n",
       "      <td>11</td>\n",
       "      <td>41</td>\n",
       "      <td>17.890244</td>\n",
       "    </tr>\n",
       "    <tr>\n",
       "      <th>Lotus</th>\n",
       "      <td>189.0</td>\n",
       "      <td>400.0</td>\n",
       "      <td>275.965517</td>\n",
       "      <td>4.0</td>\n",
       "      <td>8.0</td>\n",
       "      <td>5.241379</td>\n",
       "      <td>21</td>\n",
       "      <td>39</td>\n",
       "      <td>26.551724</td>\n",
       "      <td>14</td>\n",
       "      <td>21</td>\n",
       "      <td>18.758621</td>\n",
       "    </tr>\n",
       "    <tr>\n",
       "      <th>Maserati</th>\n",
       "      <td>345.0</td>\n",
       "      <td>523.0</td>\n",
       "      <td>420.793103</td>\n",
       "      <td>6.0</td>\n",
       "      <td>8.0</td>\n",
       "      <td>7.344828</td>\n",
       "      <td>15</td>\n",
       "      <td>25</td>\n",
       "      <td>20.293103</td>\n",
       "      <td>10</td>\n",
       "      <td>17</td>\n",
       "      <td>13.327586</td>\n",
       "    </tr>\n",
       "    <tr>\n",
       "      <th>Maybach</th>\n",
       "      <td>543.0</td>\n",
       "      <td>631.0</td>\n",
       "      <td>590.500000</td>\n",
       "      <td>12.0</td>\n",
       "      <td>12.0</td>\n",
       "      <td>12.000000</td>\n",
       "      <td>16</td>\n",
       "      <td>16</td>\n",
       "      <td>16.000000</td>\n",
       "      <td>10</td>\n",
       "      <td>10</td>\n",
       "      <td>10.000000</td>\n",
       "    </tr>\n",
       "    <tr>\n",
       "      <th>Mazda</th>\n",
       "      <td>82.0</td>\n",
       "      <td>274.0</td>\n",
       "      <td>171.992908</td>\n",
       "      <td>4.0</td>\n",
       "      <td>6.0</td>\n",
       "      <td>4.615385</td>\n",
       "      <td>17</td>\n",
       "      <td>41</td>\n",
       "      <td>27.851064</td>\n",
       "      <td>14</td>\n",
       "      <td>34</td>\n",
       "      <td>21.245863</td>\n",
       "    </tr>\n",
       "    <tr>\n",
       "      <th>McLaren</th>\n",
       "      <td>562.0</td>\n",
       "      <td>641.0</td>\n",
       "      <td>610.400000</td>\n",
       "      <td>8.0</td>\n",
       "      <td>8.0</td>\n",
       "      <td>8.000000</td>\n",
       "      <td>22</td>\n",
       "      <td>23</td>\n",
       "      <td>22.200000</td>\n",
       "      <td>15</td>\n",
       "      <td>16</td>\n",
       "      <td>15.600000</td>\n",
       "    </tr>\n",
       "    <tr>\n",
       "      <th>Mercedes-Benz</th>\n",
       "      <td>121.0</td>\n",
       "      <td>641.0</td>\n",
       "      <td>350.181818</td>\n",
       "      <td>0.0</td>\n",
       "      <td>12.0</td>\n",
       "      <td>6.711048</td>\n",
       "      <td>13</td>\n",
       "      <td>82</td>\n",
       "      <td>24.830028</td>\n",
       "      <td>10</td>\n",
       "      <td>85</td>\n",
       "      <td>18.181303</td>\n",
       "    </tr>\n",
       "    <tr>\n",
       "      <th>Mitsubishi</th>\n",
       "      <td>66.0</td>\n",
       "      <td>320.0</td>\n",
       "      <td>173.429245</td>\n",
       "      <td>3.0</td>\n",
       "      <td>8.0</td>\n",
       "      <td>4.680952</td>\n",
       "      <td>17</td>\n",
       "      <td>102</td>\n",
       "      <td>27.544601</td>\n",
       "      <td>13</td>\n",
       "      <td>126</td>\n",
       "      <td>21.910798</td>\n",
       "    </tr>\n",
       "    <tr>\n",
       "      <th>Nissan</th>\n",
       "      <td>90.0</td>\n",
       "      <td>600.0</td>\n",
       "      <td>239.921533</td>\n",
       "      <td>0.0</td>\n",
       "      <td>8.0</td>\n",
       "      <td>5.336918</td>\n",
       "      <td>17</td>\n",
       "      <td>101</td>\n",
       "      <td>27.799283</td>\n",
       "      <td>12</td>\n",
       "      <td>126</td>\n",
       "      <td>21.874552</td>\n",
       "    </tr>\n",
       "    <tr>\n",
       "      <th>Oldsmobile</th>\n",
       "      <td>110.0</td>\n",
       "      <td>275.0</td>\n",
       "      <td>177.466667</td>\n",
       "      <td>4.0</td>\n",
       "      <td>8.0</td>\n",
       "      <td>5.573333</td>\n",
       "      <td>19</td>\n",
       "      <td>31</td>\n",
       "      <td>26.233333</td>\n",
       "      <td>13</td>\n",
       "      <td>22</td>\n",
       "      <td>17.606667</td>\n",
       "    </tr>\n",
       "    <tr>\n",
       "      <th>Plymouth</th>\n",
       "      <td>92.0</td>\n",
       "      <td>253.0</td>\n",
       "      <td>131.560976</td>\n",
       "      <td>4.0</td>\n",
       "      <td>6.0</td>\n",
       "      <td>4.390244</td>\n",
       "      <td>21</td>\n",
       "      <td>36</td>\n",
       "      <td>27.963415</td>\n",
       "      <td>15</td>\n",
       "      <td>28</td>\n",
       "      <td>20.792683</td>\n",
       "    </tr>\n",
       "    <tr>\n",
       "      <th>Pontiac</th>\n",
       "      <td>74.0</td>\n",
       "      <td>415.0</td>\n",
       "      <td>190.295699</td>\n",
       "      <td>4.0</td>\n",
       "      <td>8.0</td>\n",
       "      <td>5.483871</td>\n",
       "      <td>19</td>\n",
       "      <td>37</td>\n",
       "      <td>27.069892</td>\n",
       "      <td>13</td>\n",
       "      <td>27</td>\n",
       "      <td>18.682796</td>\n",
       "    </tr>\n",
       "    <tr>\n",
       "      <th>Porsche</th>\n",
       "      <td>208.0</td>\n",
       "      <td>605.0</td>\n",
       "      <td>392.794118</td>\n",
       "      <td>4.0</td>\n",
       "      <td>10.0</td>\n",
       "      <td>6.132353</td>\n",
       "      <td>15</td>\n",
       "      <td>30</td>\n",
       "      <td>25.367647</td>\n",
       "      <td>9</td>\n",
       "      <td>21</td>\n",
       "      <td>17.470588</td>\n",
       "    </tr>\n",
       "    <tr>\n",
       "      <th>Rolls-Royce</th>\n",
       "      <td>322.0</td>\n",
       "      <td>624.0</td>\n",
       "      <td>487.548387</td>\n",
       "      <td>8.0</td>\n",
       "      <td>12.0</td>\n",
       "      <td>11.870968</td>\n",
       "      <td>15</td>\n",
       "      <td>21</td>\n",
       "      <td>19.129032</td>\n",
       "      <td>10</td>\n",
       "      <td>13</td>\n",
       "      <td>11.838710</td>\n",
       "    </tr>\n",
       "    <tr>\n",
       "      <th>Saab</th>\n",
       "      <td>150.0</td>\n",
       "      <td>390.0</td>\n",
       "      <td>220.522523</td>\n",
       "      <td>4.0</td>\n",
       "      <td>8.0</td>\n",
       "      <td>4.540541</td>\n",
       "      <td>16</td>\n",
       "      <td>33</td>\n",
       "      <td>26.351351</td>\n",
       "      <td>12</td>\n",
       "      <td>21</td>\n",
       "      <td>17.765766</td>\n",
       "    </tr>\n",
       "    <tr>\n",
       "      <th>Scion</th>\n",
       "      <td>94.0</td>\n",
       "      <td>200.0</td>\n",
       "      <td>154.433333</td>\n",
       "      <td>4.0</td>\n",
       "      <td>4.0</td>\n",
       "      <td>4.000000</td>\n",
       "      <td>28</td>\n",
       "      <td>42</td>\n",
       "      <td>32.300000</td>\n",
       "      <td>22</td>\n",
       "      <td>36</td>\n",
       "      <td>25.316667</td>\n",
       "    </tr>\n",
       "    <tr>\n",
       "      <th>Spyker</th>\n",
       "      <td>400.0</td>\n",
       "      <td>400.0</td>\n",
       "      <td>400.000000</td>\n",
       "      <td>8.0</td>\n",
       "      <td>8.0</td>\n",
       "      <td>8.000000</td>\n",
       "      <td>18</td>\n",
       "      <td>18</td>\n",
       "      <td>18.000000</td>\n",
       "      <td>13</td>\n",
       "      <td>13</td>\n",
       "      <td>13.000000</td>\n",
       "    </tr>\n",
       "    <tr>\n",
       "      <th>Subaru</th>\n",
       "      <td>66.0</td>\n",
       "      <td>305.0</td>\n",
       "      <td>197.308594</td>\n",
       "      <td>3.0</td>\n",
       "      <td>6.0</td>\n",
       "      <td>4.367188</td>\n",
       "      <td>21</td>\n",
       "      <td>38</td>\n",
       "      <td>28.683594</td>\n",
       "      <td>15</td>\n",
       "      <td>30</td>\n",
       "      <td>21.789062</td>\n",
       "    </tr>\n",
       "    <tr>\n",
       "      <th>Suzuki</th>\n",
       "      <td>66.0</td>\n",
       "      <td>261.0</td>\n",
       "      <td>160.287749</td>\n",
       "      <td>4.0</td>\n",
       "      <td>6.0</td>\n",
       "      <td>4.547009</td>\n",
       "      <td>19</td>\n",
       "      <td>39</td>\n",
       "      <td>26.034188</td>\n",
       "      <td>14</td>\n",
       "      <td>33</td>\n",
       "      <td>19.914530</td>\n",
       "    </tr>\n",
       "    <tr>\n",
       "      <th>Tesla</th>\n",
       "      <td>NaN</td>\n",
       "      <td>NaN</td>\n",
       "      <td>NaN</td>\n",
       "      <td>0.0</td>\n",
       "      <td>0.0</td>\n",
       "      <td>0.000000</td>\n",
       "      <td>90</td>\n",
       "      <td>107</td>\n",
       "      <td>98.944444</td>\n",
       "      <td>86</td>\n",
       "      <td>102</td>\n",
       "      <td>94.111111</td>\n",
       "    </tr>\n",
       "    <tr>\n",
       "      <th>Toyota</th>\n",
       "      <td>93.0</td>\n",
       "      <td>381.0</td>\n",
       "      <td>236.147849</td>\n",
       "      <td>0.0</td>\n",
       "      <td>8.0</td>\n",
       "      <td>5.597315</td>\n",
       "      <td>17</td>\n",
       "      <td>74</td>\n",
       "      <td>26.453083</td>\n",
       "      <td>13</td>\n",
       "      <td>78</td>\n",
       "      <td>21.554960</td>\n",
       "    </tr>\n",
       "    <tr>\n",
       "      <th>Volkswagen</th>\n",
       "      <td>81.0</td>\n",
       "      <td>444.0</td>\n",
       "      <td>189.757726</td>\n",
       "      <td>4.0</td>\n",
       "      <td>12.0</td>\n",
       "      <td>4.365217</td>\n",
       "      <td>15</td>\n",
       "      <td>105</td>\n",
       "      <td>32.128554</td>\n",
       "      <td>11</td>\n",
       "      <td>126</td>\n",
       "      <td>23.580964</td>\n",
       "    </tr>\n",
       "    <tr>\n",
       "      <th>Volvo</th>\n",
       "      <td>114.0</td>\n",
       "      <td>345.0</td>\n",
       "      <td>230.971530</td>\n",
       "      <td>4.0</td>\n",
       "      <td>6.0</td>\n",
       "      <td>4.722420</td>\n",
       "      <td>19</td>\n",
       "      <td>38</td>\n",
       "      <td>27.202847</td>\n",
       "      <td>15</td>\n",
       "      <td>26</td>\n",
       "      <td>19.583630</td>\n",
       "    </tr>\n",
       "  </tbody>\n",
       "</table>\n",
       "</div>"
      ],
      "text/plain": [
       "              Engine HP                      Engine Cylinders        \\\n",
       "                    min     max         mean              min   max   \n",
       "Make                                                                  \n",
       "Acura             111.0   573.0   244.797619              4.0   6.0   \n",
       "Alfa Romeo        237.0   237.0   237.000000              4.0   4.0   \n",
       "Aston Martin      420.0   568.0   484.322581              8.0  12.0   \n",
       "Audi              108.0   610.0   277.695122              4.0  12.0   \n",
       "BMW               170.0   600.0   326.907186              0.0  12.0   \n",
       "Bentley           400.0   631.0   533.851351              8.0  12.0   \n",
       "Bugatti          1001.0  1001.0  1001.000000             16.0  16.0   \n",
       "Buick             138.0   310.0   219.244898              4.0   8.0   \n",
       "Cadillac          140.0   640.0   332.309824              4.0   8.0   \n",
       "Chevrolet          55.0   650.0   246.972247              0.0   8.0   \n",
       "Chrysler          100.0   385.0   229.139037              4.0   8.0   \n",
       "Dodge              92.0   707.0   244.415335              4.0  10.0   \n",
       "FIAT              101.0   180.0   143.559322              0.0   4.0   \n",
       "Ferrari           400.0   731.0   511.956522              8.0  12.0   \n",
       "Ford               63.0   662.0   243.097926              0.0   8.0   \n",
       "GMC               105.0   420.0   259.844660              4.0   8.0   \n",
       "Genesis           311.0   420.0   347.333333              6.0   8.0   \n",
       "HUMMER            239.0   300.0   261.235294              5.0   8.0   \n",
       "Honda              62.0   280.0   195.749441              0.0   6.0   \n",
       "Hyundai            81.0   429.0   201.917492              4.0   8.0   \n",
       "Infiniti          145.0   420.0   310.066667              4.0   8.0   \n",
       "Kia               125.0   420.0   206.827434              0.0   8.0   \n",
       "Lamborghini       550.0   750.0   614.076923             10.0  12.0   \n",
       "Land Rover        174.0   550.0   322.097902              4.0   8.0   \n",
       "Lexus             134.0   552.0   277.415842              4.0  10.0   \n",
       "Lincoln           188.0   380.0   284.910256              4.0   8.0   \n",
       "Lotus             189.0   400.0   275.965517              4.0   8.0   \n",
       "Maserati          345.0   523.0   420.793103              6.0   8.0   \n",
       "Maybach           543.0   631.0   590.500000             12.0  12.0   \n",
       "Mazda              82.0   274.0   171.992908              4.0   6.0   \n",
       "McLaren           562.0   641.0   610.400000              8.0   8.0   \n",
       "Mercedes-Benz     121.0   641.0   350.181818              0.0  12.0   \n",
       "Mitsubishi         66.0   320.0   173.429245              3.0   8.0   \n",
       "Nissan             90.0   600.0   239.921533              0.0   8.0   \n",
       "Oldsmobile        110.0   275.0   177.466667              4.0   8.0   \n",
       "Plymouth           92.0   253.0   131.560976              4.0   6.0   \n",
       "Pontiac            74.0   415.0   190.295699              4.0   8.0   \n",
       "Porsche           208.0   605.0   392.794118              4.0  10.0   \n",
       "Rolls-Royce       322.0   624.0   487.548387              8.0  12.0   \n",
       "Saab              150.0   390.0   220.522523              4.0   8.0   \n",
       "Scion              94.0   200.0   154.433333              4.0   4.0   \n",
       "Spyker            400.0   400.0   400.000000              8.0   8.0   \n",
       "Subaru             66.0   305.0   197.308594              3.0   6.0   \n",
       "Suzuki             66.0   261.0   160.287749              4.0   6.0   \n",
       "Tesla               NaN     NaN          NaN              0.0   0.0   \n",
       "Toyota             93.0   381.0   236.147849              0.0   8.0   \n",
       "Volkswagen         81.0   444.0   189.757726              4.0  12.0   \n",
       "Volvo             114.0   345.0   230.971530              4.0   6.0   \n",
       "\n",
       "                         highway MPG                 city mpg                  \n",
       "                    mean         min  max       mean      min  max       mean  \n",
       "Make                                                                           \n",
       "Acura           5.333333          17   38  28.111111       13   39  19.940476  \n",
       "Alfa Romeo      4.000000          34   34  34.000000       24   24  24.000000  \n",
       "Aston Martin   10.623656          15   22  18.892473        9   14  12.526882  \n",
       "Audi            5.557927          18  354  28.823171       11   31  19.585366  \n",
       "BMW             5.958084          18  111  29.245509       10  137  20.739521  \n",
       "Bentley         9.729730          14   25  18.905405        9   15  11.554054  \n",
       "Bugatti        16.000000          14   14  14.000000        8    8   8.000000  \n",
       "Buick           5.316327          19   36  26.948980       14   28  18.704082  \n",
       "Cadillac        6.433249          18   33  25.236776       12   22  17.355164  \n",
       "Chevrolet       5.908118          15  110  25.815672       11  128  19.021371  \n",
       "Chrysler        5.593583          17   36  26.368984       12   23  17.759358  \n",
       "Dodge           6.258786          12   41  22.345048       10   28  16.065495  \n",
       "FIAT            3.806452          29  108  37.338710       21  122  30.645161  \n",
       "Ferrari         9.797101          12   23  15.724638        7   16  10.565217  \n",
       "Ford            5.914869          13   99  24.006810       11  110  17.960272  \n",
       "GMC             6.454369          13   32  21.403883       10   22  15.813592  \n",
       "Genesis         6.666667          23   28  25.333333       15   18  16.333333  \n",
       "HUMMER          6.058824          16   18  17.294118       13   14  13.529412  \n",
       "Honda           4.659243          18  105  32.574610       14  132  25.443207  \n",
       "Hyundai         4.666667          21   45  30.392739       15   40  22.343234  \n",
       "Infiniti        6.151515          17   36  24.778788       12   29  17.827273  \n",
       "Kia             4.588745          20   92  30.653680       15  120  23.848485  \n",
       "Lamborghini    10.884615          12   21  18.019231        8   15  11.519231  \n",
       "Land Rover      6.125874          14   30  22.125874       11   22  16.230769  \n",
       "Lexus           6.247525          14   40  25.876238       11   43  20.311881  \n",
       "Lincoln         6.073171          15   39  24.487805       11   41  17.890244  \n",
       "Lotus           5.241379          21   39  26.551724       14   21  18.758621  \n",
       "Maserati        7.344828          15   25  20.293103       10   17  13.327586  \n",
       "Maybach        12.000000          16   16  16.000000       10   10  10.000000  \n",
       "Mazda           4.615385          17   41  27.851064       14   34  21.245863  \n",
       "McLaren         8.000000          22   23  22.200000       15   16  15.600000  \n",
       "Mercedes-Benz   6.711048          13   82  24.830028       10   85  18.181303  \n",
       "Mitsubishi      4.680952          17  102  27.544601       13  126  21.910798  \n",
       "Nissan          5.336918          17  101  27.799283       12  126  21.874552  \n",
       "Oldsmobile      5.573333          19   31  26.233333       13   22  17.606667  \n",
       "Plymouth        4.390244          21   36  27.963415       15   28  20.792683  \n",
       "Pontiac         5.483871          19   37  27.069892       13   27  18.682796  \n",
       "Porsche         6.132353          15   30  25.367647        9   21  17.470588  \n",
       "Rolls-Royce    11.870968          15   21  19.129032       10   13  11.838710  \n",
       "Saab            4.540541          16   33  26.351351       12   21  17.765766  \n",
       "Scion           4.000000          28   42  32.300000       22   36  25.316667  \n",
       "Spyker          8.000000          18   18  18.000000       13   13  13.000000  \n",
       "Subaru          4.367188          21   38  28.683594       15   30  21.789062  \n",
       "Suzuki          4.547009          19   39  26.034188       14   33  19.914530  \n",
       "Tesla           0.000000          90  107  98.944444       86  102  94.111111  \n",
       "Toyota          5.597315          17   74  26.453083       13   78  21.554960  \n",
       "Volkswagen      4.365217          15  105  32.128554       11  126  23.580964  \n",
       "Volvo           4.722420          19   38  27.202847       15   26  19.583630  "
      ]
     },
     "execution_count": 19,
     "metadata": {},
     "output_type": "execute_result"
    }
   ],
   "source": [
    "data.groupby('Make')[['Engine HP', 'Engine Cylinders', 'highway MPG', 'city mpg']].agg(['min', 'max', 'mean'])"
   ]
  },
  {
   "cell_type": "markdown",
   "metadata": {},
   "source": [
    "## 2.3.2 Grouping the data on the basis of Year\n",
    "\n",
    "We would now be grouping the data on the basis of year and check the average prices of cars for the years of cars. Looking at the plot below, we see that the average prices of cars was the highest in the year 2014 followed by the year 2012. The average prices of cars that are in the year 2000 and below are pretty low as can be easily seen from the plot. On average, we also find an interesting trend. As the years increase, we could see that the average prices of cars keep increasing but not in a steady way. "
   ]
  },
  {
   "cell_type": "code",
   "execution_count": null,
   "metadata": {},
   "outputs": [],
   "source": [
    "plt.figure(figsize = (20, 10))\n",
    "data.groupby('Year')['MSRP'].mean().plot(kind = 'bar', color = 'g')\n",
    "plt.title(\"The Average Price of cars in different years\", fontsize = 20)\n",
    "plt.show()\n"
   ]
  },
  {
   "cell_type": "markdown",
   "metadata": {},
   "source": [
    "## 2.3.3 Grouping on the basis of Transmission Type\n",
    "\n",
    "We would be grouping the data on the basis of transmission type and check the average prices of cars. We see that automated_manual cars have the highest average price. That is being followed by automatic cars. We expect the prices of cars that are manual to be low compared to the prices of cars that are automatic. That is being reflected in the graph below. "
   ]
  },
  {
   "cell_type": "code",
   "execution_count": null,
   "metadata": {},
   "outputs": [],
   "source": [
    "plt.figure(figsize = (10, 10))\n",
    "data.groupby('Transmission Type')['MSRP'].mean().plot(kind = 'bar', color = 'y')\n",
    "plt.title(\"The Average Price of cars in different tranmission types\", fontsize = 20)\n",
    "plt.show()\n"
   ]
  },
  {
   "cell_type": "markdown",
   "metadata": {},
   "source": [
    "## 2.3.4 Grouping on the basis of Make with 'MSRP' values\n",
    "\n",
    "We would now be grouping on the basis of make and check the average prices of cars of particular makes. We should surely be expecting Bugatti to the most expensive car. In fact, it is the most expensive car in the world. Hope we buy the car anytime soon! (Just kidding). We see that the average price of Bugatti Veyron is about 1.75 million dollars. It is way too expensive compared to the other cars. There are other cars such as Maybach and Rolce-Royce that are also expensive if we remove Bugatti from our list. We see that the least expensive car is Plymouth. "
   ]
  },
  {
   "cell_type": "code",
   "execution_count": null,
   "metadata": {},
   "outputs": [],
   "source": [
    "plt.figure(figsize = (20, 15))\n",
    "data.groupby(['Make']).mean()['MSRP'].sort_values(ascending = False).plot(kind = 'bar', fontsize = 15, color = 'black')\n",
    "plt.title(\"The average price of cars of different companies\", fontsize = 20)\n",
    "plt.show()\n"
   ]
  },
  {
   "cell_type": "markdown",
   "metadata": {},
   "source": [
    "## 2.3.5 Grouping on the basis of Make with 'Engine HP' values \n",
    "\n",
    "We would be grouping the data on the basis of Make and consider the 'Engine HP'. We should expect Bugatti to have the highest horse power (hp). We see that in the below graph. In addition, there are other car makers such as McLaren and Maybach which also contain a good horse power (hp). Since the horse power of 'tesla' is not known, we don't have a bar depicted below. "
   ]
  },
  {
   "cell_type": "code",
   "execution_count": null,
   "metadata": {},
   "outputs": [],
   "source": [
    "plt.figure(figsize = (20, 20))\n",
    "data.groupby('Make').median()['Engine HP'].plot(kind = 'barh', fontsize = 15, color = 'brown')"
   ]
  },
  {
   "cell_type": "markdown",
   "metadata": {},
   "source": [
    "## 2.3.6 Grouping on the basis of Driven Wheels\n",
    "\n",
    "We would now be dividing the data on the basis of Driven Wheels. We would then calculate the average prices of each group. We see that the average price of 'all wheel drive' cars is the highest followed by 'rear wheel drive' cars respectively. That is what should be expected as 'all wheel drive' cars are powerful and their cost is high. The 'front wheel drive' cars on the other hand are not that expensive as they don't have a lot of power. Thus, the data is reflective of the real-world data. "
   ]
  },
  {
   "cell_type": "code",
   "execution_count": null,
   "metadata": {},
   "outputs": [],
   "source": [
    "plt.figure(figsize = (15, 5))\n",
    "data.groupby('Driven_Wheels').mean()['MSRP'].plot(kind = 'barh', color = 'olivedrab')\n",
    "plt.title(\"The average cost of cars based on the driven wheels\", fontsize= 20)\n",
    "plt.show()"
   ]
  },
  {
   "cell_type": "markdown",
   "metadata": {},
   "source": [
    "## 2.3.7 Grouping on the basis of Make with 'Popularity' values\n",
    "\n",
    "We would group the data on the basis of make and find the average popularity of different cars. We see that 'Ford' is very popular all around our data. It is being followed by 'BMW' and 'Audi' respectively. We see that there are other car makers such as 'Lincoln' and 'Genesis' that are not so popular. 'Toyota' is also a popular brand and is present in the plot below.  "
   ]
  },
  {
   "cell_type": "code",
   "execution_count": null,
   "metadata": {},
   "outputs": [],
   "source": [
    "plt.figure(figsize = (15, 15))\n",
    "data.groupby('Make').mean()['Popularity'].sort_values(ascending = True).plot(kind = 'barh', color = 'orange')\n",
    "plt.yticks(fontsize = 10)\n",
    "plt.title(\"Popularity of various car brands\", fontsize = 15)\n",
    "plt.show()"
   ]
  },
  {
   "cell_type": "markdown",
   "metadata": {},
   "source": [
    "## 2.4 Scatterplot between 'highway MPG' and 'city mpg'\n",
    "\n",
    "We should be expecting a linear relationship between 'highway MPG' and 'city mpg' as they are very much correlated with each other. We cannot have cars, in general, that have a city mileage that is very much different from highway mileage. In the plot below, we see that there is one outlier where the highway MPG is about 350. There are no cars that have that high mileage. We can remove the outlier as it would affect our results as errors in the data are costly when performing the machine learning operations. "
   ]
  },
  {
   "cell_type": "code",
   "execution_count": null,
   "metadata": {},
   "outputs": [],
   "source": [
    "sns.scatterplot(x = 'highway MPG', y = 'city mpg', data = data, color = 'r')\n",
    "plt.title(\"Scatterplot between highway MPG and city mpg\")\n",
    "plt.show()"
   ]
  },
  {
   "cell_type": "markdown",
   "metadata": {},
   "source": [
    "We would be removing the outlier in our data where the highway MPG is about 350."
   ]
  },
  {
   "cell_type": "code",
   "execution_count": null,
   "metadata": {},
   "outputs": [],
   "source": [
    "data[data['highway MPG'] > 350]"
   ]
  },
  {
   "cell_type": "code",
   "execution_count": null,
   "metadata": {},
   "outputs": [],
   "source": [
    "data = data[data['highway MPG'] < 350]"
   ]
  },
  {
   "cell_type": "markdown",
   "metadata": {},
   "source": [
    "We would now be using a scatterplot as the above but with removing the outliers. We see almost a linear line between the two features that we have considered and that is what is expected."
   ]
  },
  {
   "cell_type": "code",
   "execution_count": null,
   "metadata": {},
   "outputs": [],
   "source": [
    "sns.scatterplot(x = 'highway MPG', y ='city mpg', data = data, color = 'salmon')\n",
    "plt.title(\"Scatterplot between highway MPG and city mpg\")\n",
    "plt.show()"
   ]
  },
  {
   "cell_type": "markdown",
   "metadata": {},
   "source": [
    "We would check all the unique values in 'Market Category'. We see that there are so many different unique values. "
   ]
  },
  {
   "cell_type": "code",
   "execution_count": null,
   "metadata": {},
   "outputs": [],
   "source": [
    "data['Market Category'].unique()"
   ]
  },
  {
   "cell_type": "markdown",
   "metadata": {},
   "source": [
    "## 2.5 Boxplot \n",
    "\n",
    "Boxplots give us a good understanding of how the data values are spread for different features. We could get to know the 25th, 50th and 75th percentile values present in different features. In addition, the outliers could also be detected by making use of a formula and considering the interquartile range which is the difference between the 75th percentile and 25th percentile respectively."
   ]
  },
  {
   "cell_type": "markdown",
   "metadata": {},
   "source": [
    "## 2.5.1 Boxplot of highway MPG\n",
    "\n",
    "We would now be using the boxplot of highway MPG and calculate the average values and how the distribution is spread. We see that the average values are about 25 for highway MPG and we see the maximum value being equal to about 40 and the points above that to be outliers. We see that the data is not so spread as most of the values lie between 21 and 30 respectively. "
   ]
  },
  {
   "cell_type": "code",
   "execution_count": null,
   "metadata": {},
   "outputs": [],
   "source": [
    "sns.boxplot(x = 'highway MPG', data = data, color = 'red')"
   ]
  },
  {
   "cell_type": "markdown",
   "metadata": {},
   "source": [
    "## Calculating percentiles of highway MPG\n",
    "\n",
    "We would now print the highway percentile values to get a better understanding of the outliers in our data. We see that we cannot distinguish the outliers in the below print statements. We would be using more granularity and then calculate the percentile values and spot the outliers in our data. "
   ]
  },
  {
   "cell_type": "code",
   "execution_count": null,
   "metadata": {},
   "outputs": [],
   "source": [
    "for i in range(90, 100):\n",
    "    print(\"The {:.1f}th percentile value is {:.2f}\".format(i, np.percentile(data['highway MPG'], i)))"
   ]
  },
  {
   "cell_type": "markdown",
   "metadata": {},
   "source": [
    "We see that 99.5th percentile values and so on have very high values and can be considered as outliers. Therefore, we have to remove those outliers so that they don't disturb our data and machine learning algorithms perform well with the data once the outliers are removed. "
   ]
  },
  {
   "cell_type": "code",
   "execution_count": null,
   "metadata": {},
   "outputs": [],
   "source": [
    "for i in [x * 0.1 for x in range(990, 1000)]:\n",
    "    print(\"The {:.1f}th percentile value is {:.2f}\".format(i, np.percentile(data['highway MPG'], i)))"
   ]
  },
  {
   "cell_type": "markdown",
   "metadata": {},
   "source": [
    "We would be removing the outlier values in our data. We would set the bar to be equal to about 60 respectively."
   ]
  },
  {
   "cell_type": "code",
   "execution_count": null,
   "metadata": {},
   "outputs": [],
   "source": [
    "data = data[data['highway MPG'] < 60]"
   ]
  },
  {
   "cell_type": "markdown",
   "metadata": {},
   "source": [
    "We would once again plot the boxplot and see how the values are split for highway MPG. We find that the highway MPG is more skewed towards the right. We see a lot of values to the right of the mean. What this means is that more than 50 percent of the values are above 24 (mean). "
   ]
  },
  {
   "cell_type": "code",
   "execution_count": null,
   "metadata": {},
   "outputs": [],
   "source": [
    "sns.boxplot(x = 'highway MPG', data = data, color = 'skyblue')"
   ]
  },
  {
   "cell_type": "markdown",
   "metadata": {},
   "source": [
    "## 2.5.2 Boxplot of city mpg\n",
    "We would do the similar above operation for 'city mpg' respectively. We also see below some outliers that might interfere in our predictions. Therefore, we would delete those values. \n"
   ]
  },
  {
   "cell_type": "code",
   "execution_count": null,
   "metadata": {},
   "outputs": [],
   "source": [
    "sns.boxplot(x = 'city mpg', data = data)"
   ]
  },
  {
   "cell_type": "markdown",
   "metadata": {},
   "source": [
    "We would now be getting the percentile values and check the outliers. "
   ]
  },
  {
   "cell_type": "code",
   "execution_count": null,
   "metadata": {},
   "outputs": [],
   "source": [
    "for i in range(90, 100):\n",
    "    print(\"The {:.1f}th percentile value is {:.2f}\".format(i, np.percentile(data['city mpg'], i)))"
   ]
  },
  {
   "cell_type": "markdown",
   "metadata": {},
   "source": [
    "We would be checking the outliers and calculate their values. "
   ]
  },
  {
   "cell_type": "code",
   "execution_count": null,
   "metadata": {},
   "outputs": [],
   "source": [
    "for i in [x * 0.1 for x in range(990, 1000)]:\n",
    "    print(\"The {:.1f}th percentile value is {:.2f}\".format(i, np.percentile(data['city mpg'], i)))"
   ]
  },
  {
   "cell_type": "markdown",
   "metadata": {},
   "source": [
    "We would be removing the outlier values and put the bar equal to 40 respectively. "
   ]
  },
  {
   "cell_type": "code",
   "execution_count": null,
   "metadata": {},
   "outputs": [],
   "source": [
    "data = data[data['city mpg'] < 40]"
   ]
  },
  {
   "cell_type": "markdown",
   "metadata": {},
   "source": [
    "We would once again plot the boxplot of 'city mpg' respectively. We see again that the data is right skewed. "
   ]
  },
  {
   "cell_type": "code",
   "execution_count": null,
   "metadata": {},
   "outputs": [],
   "source": [
    "sns.boxplot(x = 'city mpg', data= data, color = 'darkgreen')"
   ]
  },
  {
   "cell_type": "markdown",
   "metadata": {},
   "source": [
    "## 2.5.3 Boxplot of 2 features 'city mpg' and 'highway MPG' \n",
    "\n",
    "We would be looking at the 2 features 'city mpg' and 'highway MPG' respectively. We see that in terms of 'city mpg' most of the values that are present are in the range between 15 to 22 respectively. On the other hand, we find that most of the values that are present in 'highway MPG' are in the range 22 to 30 respectively. Therefore, we can see how the values are spread in the boxplot and see there the spread actually take place by comparing the features. "
   ]
  },
  {
   "cell_type": "code",
   "execution_count": null,
   "metadata": {
    "scrolled": true
   },
   "outputs": [],
   "source": [
    "plt.figure(figsize = (20, 10))\n",
    "sns.boxplot(data = data[['city mpg', 'highway MPG']], palette = 'Accent')\n",
    "plt.title(\"Boxplot of city mpg and highway MPG\", fontsize = 15)\n",
    "plt.show()"
   ]
  },
  {
   "cell_type": "markdown",
   "metadata": {},
   "source": [
    "## 2.5.4 Boxplot of 'Engine HP' \n",
    "\n",
    "We would be making use of the boxplot and then seeing the spread of the values 'Engine HP' and get an idea about how the values are spread. We see that most of the values of 'Engine HP' would lie between 150 to 300 respectively. The maximum value of the engine horsepower would be something like 500 while the remaining values that are higher are considered to be outliers. The boxplot also looks as though it is right skewed where there are more number of values of 'Engine HP' that are higher than the mean value of about 250 (mean) respectively. "
   ]
  },
  {
   "cell_type": "code",
   "execution_count": null,
   "metadata": {
    "scrolled": true
   },
   "outputs": [],
   "source": [
    "plt.figure(figsize = (20, 10))\n",
    "sns.boxplot(data['Engine HP'])"
   ]
  },
  {
   "cell_type": "markdown",
   "metadata": {},
   "source": [
    "## 2.6.1 lmplot between 'Engine HP' and 'Popularity'\n",
    "\n",
    "We would be using lmplot and checking the relationship between 'Engine HP' and 'Popularity' respectively. We see that most of the data is not related. One thing to note, however, is that there is a linear line which has a positive slope. What this means is that with the increase in 'Engine HP', there is a higher chance of increase in 'Popularity' respectively. This need not be true in all the cases as correlation need not always be equal to causation. "
   ]
  },
  {
   "cell_type": "code",
   "execution_count": null,
   "metadata": {},
   "outputs": [],
   "source": [
    "sns.set(rc = {'figure.figsize': (20, 20)})\n",
    "sns.lmplot(x = 'Engine HP', y = 'Popularity', data = data)"
   ]
  },
  {
   "cell_type": "markdown",
   "metadata": {},
   "source": [
    "## 2.6.2 lmplot between 'Engine Cylinders' and 'Popularity' \n",
    "\n",
    "We would now be plotting the lmplot between 'Engine Cylinders' and 'Popularity' and see if there is any relationships between the parameters taken into consideration. We see that there is a relationship between the 'Popularity' and 'Engine Cylinders' and there is a positive relationship between parameters. We see that the data and the features that we have considered are correlated with each other. But that should again not be confused with causation as having higher number of 'Engine Cylinders' does not cause the car to be more popular and increase the 'Popularity'. "
   ]
  },
  {
   "cell_type": "code",
   "execution_count": null,
   "metadata": {
    "scrolled": true
   },
   "outputs": [],
   "source": [
    "sns.lmplot(x = 'Engine Cylinders', y = 'Popularity', data = data)\n",
    "plt.title(\"Engine Cylinders vs Popularity\", fontsize = 15)\n",
    "plt.show()"
   ]
  },
  {
   "cell_type": "markdown",
   "metadata": {},
   "source": [
    "## 2.6.3 lmplot between 'Number of Doors' and 'Popularity'\n",
    "We see that there is a line that has a negative slope on the relationship between the parameters. We see that 'Popularity' and the 'Number of Doors' are not related with each other. In general, we see that the more the number of doors of the car, the less the popularity. That is true in real life as well as we see that the cars that are highly popular have just 2 doors. Some of the cars include Bugatti Veyron and Lamborghini Gallardo. Thus, this data is reflective of the real world data set that we have taken into consideration. "
   ]
  },
  {
   "cell_type": "code",
   "execution_count": null,
   "metadata": {
    "scrolled": true
   },
   "outputs": [],
   "source": [
    "sns.lmplot(x = 'Number of Doors', y = 'Popularity', data = data)\n",
    "plt.title(\"Number of doors vs Popularity\", fontsize = 15)\n",
    "plt.show()"
   ]
  },
  {
   "cell_type": "markdown",
   "metadata": {},
   "source": [
    "## 2.6.4 lmplot between 'Engine Cylinders' and 'Engine HP' \n",
    "\n",
    "We see that there is a very good correlation between 'Engine Cylinders' and 'Engine HP' as can be seen from the plot below. That's the reason we gave an almost perfect linearly drawn line. Therefore, lmplot could be used to see the linear relationship or the correlation between the 2 features under consideration respectively. "
   ]
  },
  {
   "cell_type": "code",
   "execution_count": null,
   "metadata": {},
   "outputs": [],
   "source": [
    "sns.lmplot(x = 'Engine Cylinders', y = 'Engine HP', scatter_kws = {\"s\": 40, \"alpha\": 0.2}, data = data)\n",
    "plt.title(\"Engine Cylinders vs Engine HP\", fontsize = 15)\n",
    "plt.show()"
   ]
  },
  {
   "cell_type": "markdown",
   "metadata": {},
   "source": [
    "## 2.6.5 lmplot between 'city mpg' and 'highway MPG'\n",
    "\n",
    "We see that there is a linear relationship between features that we have taken into consideration. In real life, we see the same being reflected. Therefore, we are working with a real world data set as most of the features are what we find in the real-world. "
   ]
  },
  {
   "cell_type": "code",
   "execution_count": null,
   "metadata": {
    "scrolled": true
   },
   "outputs": [],
   "source": [
    "sns.lmplot(x = 'city mpg', y = 'highway MPG', data = data)\n",
    "plt.title(\"city mpg vs highway MPG\", fontsize = 15)\n",
    "plt.show()"
   ]
  },
  {
   "cell_type": "markdown",
   "metadata": {},
   "source": [
    "## 2.6.6 lmplot between 'city mpg' and 'Engine Cylinders'\n",
    "\n",
    "We see that there is an inverse relationship between 'city mpg' and 'Engine Cylinders' respectively. That is what we typically find in real-life. We see that as there is an increase in the number of engine cylinders, there is a higher possibility for the car under consideration to be lower in terms of city mileage. That is what is being reflected in our plot. "
   ]
  },
  {
   "cell_type": "code",
   "execution_count": null,
   "metadata": {
    "scrolled": true
   },
   "outputs": [],
   "source": [
    "sns.lmplot(x = 'city mpg', y = 'Engine Cylinders', data = data)\n",
    "plt.title(\"city mpg vs Engine Cylinders\", fontsize = 15)\n",
    "plt.show()"
   ]
  },
  {
   "cell_type": "markdown",
   "metadata": {},
   "source": [
    "## 2.7 Heatmap\n",
    "\n",
    "One of the cool features of python is the heatmap. We would be able to consider some of the important values that are present such as 'Engine HP', 'Engine Cylinders' and 'Number of Doors'. We would be taking the features that are numerical and we would be using the plots and see the correlation between them. We see that 'highway MPG' and 'city mpg' are highly correlated. That is the reason that we got a value of about 0.94 respectively. In addition to this, we see that 'Engine Horsepower' and 'Engine Cylinders' are correlated. That is true as having a higher number of cylinders would ensure that there is a high horsepower on a car. "
   ]
  },
  {
   "cell_type": "code",
   "execution_count": null,
   "metadata": {
    "scrolled": true
   },
   "outputs": [],
   "source": [
    "plt.figure(figsize = (15, 15))\n",
    "numeric_columns = ['Engine HP', 'Engine Cylinders', 'Number of Doors', 'highway MPG', 'city mpg', 'Popularity']\n",
    "heatmap_data = data[numeric_columns].corr()\n",
    "\n",
    "sns.heatmap(heatmap_data, cmap = 'BuPu', annot = True)"
   ]
  },
  {
   "cell_type": "markdown",
   "metadata": {},
   "source": [
    "## 2.8 Grouping on the basis of 'Year'\n",
    "\n",
    "We would now be grouping on the basis of the year and check the 'highway MPG' in descending order so that we can know which year there was a good 'highway MPG' and so on. We see from the plot that in the year 2016, there is a higher value of 'highway MPG' respectively. We cannot easily seperate the values on the basis of year as there are so many years to be taken into consideration respectively. We were able to separate the average prices of the car on the basis of the year as we found that there are some cars of the years below 2000 that were considered to be low. Here, we cannot find such cases as there are cars even in the 90's that had high values of 'highway MPG' respectively. "
   ]
  },
  {
   "cell_type": "code",
   "execution_count": null,
   "metadata": {},
   "outputs": [],
   "source": [
    "plt.figure(figsize = (20, 10))\n",
    "data.groupby('Year').mean()['highway MPG'].sort_values(ascending = False).plot(kind = 'bar', color = 'darkseagreen')\n",
    "plt.title(\"Average highway mpg for different years\", fontsize = 15)\n",
    "plt.show()"
   ]
  },
  {
   "cell_type": "markdown",
   "metadata": {},
   "source": [
    "## Checking the NULL values\n",
    "\n",
    "Now, it is time to check the null values and see if there are any missing data values. We see that there are a few features that have missing values. We see some features such as 'Engine Fuel Type' and 'Engine HP' that are missing. We have to fill those missing values as our machine learning model cannot deal with missing values though there are some algorithms that can solve the problem. "
   ]
  },
  {
   "cell_type": "code",
   "execution_count": null,
   "metadata": {},
   "outputs": [],
   "source": [
    "data.isnull().sum()"
   ]
  },
  {
   "cell_type": "markdown",
   "metadata": {},
   "source": [
    "We would be calculating the median values of 'Number of doors' so that we can fill the missing values with the median value. "
   ]
  },
  {
   "cell_type": "code",
   "execution_count": null,
   "metadata": {},
   "outputs": [],
   "source": [
    "data['Number of Doors'].median()"
   ]
  },
  {
   "cell_type": "markdown",
   "metadata": {},
   "source": [
    "Here, we would be filling the missing values with the value 4 which is the median of the number of doors. "
   ]
  },
  {
   "cell_type": "code",
   "execution_count": null,
   "metadata": {},
   "outputs": [],
   "source": [
    "data['Number of Doors'].fillna(4.0, inplace = True)"
   ]
  },
  {
   "cell_type": "markdown",
   "metadata": {},
   "source": [
    "We would now be checking the missing values of 'Number of doors' and see if there are any values present. We see that there are 0 missing values present. "
   ]
  },
  {
   "cell_type": "code",
   "execution_count": null,
   "metadata": {},
   "outputs": [],
   "source": [
    "data['Number of Doors'].isnull().sum()"
   ]
  },
  {
   "cell_type": "markdown",
   "metadata": {},
   "source": [
    "## Creating a new column\n",
    "\n",
    "We would now try to add a new feature which is used to calculate the difference between the present year and the year of manufacture of the car so that we can take into consideration the depreciation amount which can be done by the machine learning models. Therefore, we create a new column called 'Present Year' and we make it equal to 2021 respectively. We would then subtract the 'Year of manufacture' values with these values of the car so that we get the total number of years the car has been out. "
   ]
  },
  {
   "cell_type": "code",
   "execution_count": null,
   "metadata": {},
   "outputs": [],
   "source": [
    "data['Present Year'] = 2021"
   ]
  },
  {
   "cell_type": "markdown",
   "metadata": {},
   "source": [
    "We would be printing the head of the dataframe just to check the values that are present in it."
   ]
  },
  {
   "cell_type": "code",
   "execution_count": null,
   "metadata": {},
   "outputs": [],
   "source": [
    "data.head()"
   ]
  },
  {
   "cell_type": "markdown",
   "metadata": {},
   "source": [
    "Now it is the time to create a new column called 'Years of Manufacture' respectively. We would be doing the subtraction of the 'Present Year' from the 'Year' which is nothing but the year of manufacture. It would be better to plot the graph and see how the graph looks like in the notebook."
   ]
  },
  {
   "cell_type": "code",
   "execution_count": null,
   "metadata": {},
   "outputs": [],
   "source": [
    "data['Years Of Manufacture'] = data['Present Year'] - data['Year']"
   ]
  },
  {
   "cell_type": "markdown",
   "metadata": {},
   "source": [
    "Once we have the information, there is no need to have an additional column called 'Present Year' as that value is a constant. We would, therefore, delete the column as it is no longer needed. "
   ]
  },
  {
   "cell_type": "code",
   "execution_count": null,
   "metadata": {},
   "outputs": [],
   "source": [
    "data.drop(['Present Year'], inplace = True, axis = 1)"
   ]
  },
  {
   "cell_type": "markdown",
   "metadata": {},
   "source": [
    "## 2.9 Plotting the barplot of 'Years of Manufacture' \n",
    "\n",
    "We see that most of the values are about 6 years old. Therefore, we are working with young cars as there are some other cars in our data that are about 31 years old. These cars are very few in number. It is good to work with the most recent data points as the future would also be more relying and would be following the trend of the most recent data points into consideration. "
   ]
  },
  {
   "cell_type": "code",
   "execution_count": null,
   "metadata": {},
   "outputs": [],
   "source": [
    "sns.barplot(y = data['Years Of Manufacture'].value_counts(), x = data['Years Of Manufacture'].value_counts().index)\n",
    "plt.title(\"Total number of cars with particular years of manufacture\", fontsize = 20)\n",
    "plt.show()"
   ]
  },
  {
   "cell_type": "markdown",
   "metadata": {},
   "source": [
    "## Unique values in 'Engine Fuel Type'\n",
    "\n",
    "We see that there are a few values that are present in 'Engine Fuel Types' and we would be taking those values into consideration respectively."
   ]
  },
  {
   "cell_type": "code",
   "execution_count": null,
   "metadata": {},
   "outputs": [],
   "source": [
    "data['Engine Fuel Type'].unique()"
   ]
  },
  {
   "cell_type": "code",
   "execution_count": null,
   "metadata": {},
   "outputs": [],
   "source": [
    "type(\"data['Engine Fuel Type'].mode()\")"
   ]
  },
  {
   "cell_type": "code",
   "execution_count": null,
   "metadata": {},
   "outputs": [],
   "source": [
    "data['Engine Fuel Type'].fillna(\"data['Engine Fuel Type'].mode()\", inplace = True)"
   ]
  },
  {
   "cell_type": "code",
   "execution_count": null,
   "metadata": {},
   "outputs": [],
   "source": [
    "data['Engine Fuel Type'].isnull().sum()"
   ]
  },
  {
   "cell_type": "code",
   "execution_count": null,
   "metadata": {},
   "outputs": [],
   "source": [
    "data.isnull().sum()"
   ]
  },
  {
   "cell_type": "markdown",
   "metadata": {},
   "source": [
    "We would now be calculating the mean value of 'Engine HP' and understand it better. As could be seen from the graph, the 'Engine HP' is about 250 as can also be seen below. "
   ]
  },
  {
   "cell_type": "code",
   "execution_count": null,
   "metadata": {},
   "outputs": [],
   "source": [
    "data['Engine HP'].mean()"
   ]
  },
  {
   "cell_type": "markdown",
   "metadata": {},
   "source": [
    "We would now be checking the median values of 'Engine HP' and understand them better. We see that the value is about '230' respectively which is nothing but the median value. "
   ]
  },
  {
   "cell_type": "code",
   "execution_count": null,
   "metadata": {},
   "outputs": [],
   "source": [
    "data['Engine HP'].median()"
   ]
  },
  {
   "cell_type": "markdown",
   "metadata": {},
   "source": [
    "We are now going to fill the missing values with the median value so that it is more appropriate and accurate. And we have to make sure that inplace = True which means that the values that are replaced are permanent rather than getting temporary solutions in a variable. "
   ]
  },
  {
   "cell_type": "code",
   "execution_count": null,
   "metadata": {},
   "outputs": [],
   "source": [
    "data['Engine HP'].fillna(data['Engine HP'].median(), inplace = True)"
   ]
  },
  {
   "cell_type": "markdown",
   "metadata": {},
   "source": [
    "We now check the missing values in 'Engine HP' and see if there are any values present. We see that there are no mssing values that are present in 'Engine HP' respectively. "
   ]
  },
  {
   "cell_type": "code",
   "execution_count": null,
   "metadata": {},
   "outputs": [],
   "source": [
    "data['Engine HP'].isnull().sum()"
   ]
  },
  {
   "cell_type": "markdown",
   "metadata": {},
   "source": [
    "It is good to know the values that are present in 'Engine Cylinders' and see if there is any replacement. We see that there is an 'nan' value present in our data. We have to remove that point and replace it with some other value as missing values in machine learning could be costly and lead to some errors. Moreover, some machine learning algorithms cannot perform well too if there are any missing values. "
   ]
  },
  {
   "cell_type": "code",
   "execution_count": null,
   "metadata": {},
   "outputs": [],
   "source": [
    "data['Engine Cylinders'].unique()"
   ]
  },
  {
   "cell_type": "code",
   "execution_count": null,
   "metadata": {},
   "outputs": [],
   "source": [
    "data['Engine Cylinders'].fillna(4, inplace = True)"
   ]
  },
  {
   "cell_type": "markdown",
   "metadata": {},
   "source": [
    "We would once again check the missing values and see if there are values present in our features. We see that there is one feature with missing values namely 'Market Category' respectively. We would be removing that feature as there are many missing values and it seems as though we cannot make use of this feature anyways as it contains complex texts. Note that we might have used some natural language processing techniques (NLP) to solve the problem. However, it is not feasible here as the text is too complex and cannot find much of a value in it. "
   ]
  },
  {
   "cell_type": "code",
   "execution_count": null,
   "metadata": {},
   "outputs": [],
   "source": [
    "data.isnull().sum()"
   ]
  },
  {
   "cell_type": "markdown",
   "metadata": {},
   "source": [
    "Below we are dropping the 'Market Category' feature and making the inplace = True which shows that the feature is removed. "
   ]
  },
  {
   "cell_type": "code",
   "execution_count": null,
   "metadata": {},
   "outputs": [],
   "source": [
    "data.drop(['Market Category'], inplace = True, axis = 1)"
   ]
  },
  {
   "cell_type": "markdown",
   "metadata": {},
   "source": [
    "We once again check the missing values and see if there are any missing values in our data. We see that there are no missing values in our features. Therefore, now is the time to convert all these features into a mathematical format so that we would be able to perform the machine learning operations. "
   ]
  },
  {
   "cell_type": "code",
   "execution_count": null,
   "metadata": {},
   "outputs": [],
   "source": [
    "data.isnull().sum()"
   ]
  },
  {
   "cell_type": "markdown",
   "metadata": {},
   "source": [
    "We would see the information about the data and consider the type of feature that we are going to be dealing in machine learning respectively. We find that there are a few object features which must be converted to a mathematical form for the machine learning algorithm to read and understand them. "
   ]
  },
  {
   "cell_type": "code",
   "execution_count": null,
   "metadata": {},
   "outputs": [],
   "source": [
    "data.info()"
   ]
  },
  {
   "cell_type": "markdown",
   "metadata": {},
   "source": [
    "We would find the unique values of 'Vehicle Size' and see the values that are associated with them. We see just 3 categorical features such as 'Compact', 'Midsize' and 'Large' respectively. "
   ]
  },
  {
   "cell_type": "code",
   "execution_count": null,
   "metadata": {},
   "outputs": [],
   "source": [
    "data['Vehicle Size'].unique()"
   ]
  },
  {
   "cell_type": "markdown",
   "metadata": {},
   "source": [
    "We would also see the vehicle style and the categories that are associated with them. We see a lot of categories and we would have to be working with them and understand and convert them into the form of integers before working with them. "
   ]
  },
  {
   "cell_type": "code",
   "execution_count": null,
   "metadata": {},
   "outputs": [],
   "source": [
    "data['Vehicle Style'].unique()"
   ]
  },
  {
   "cell_type": "markdown",
   "metadata": {},
   "source": [
    "# 3. Manipulation of Data \n",
    "\n",
    "Now, it is time to manipulate the data and convert it in the forms where we could give it for the machine learning models for predictions. We use various libraries in python such as shuffle that are used to choose various data values that would later be given to the machine learning models. There is a requirement to also encode the text information that is present so that those values are converted to mathematical vectors that would ensure that they would be understood by the algorithms respectively. "
   ]
  },
  {
   "cell_type": "markdown",
   "metadata": {},
   "source": [
    "## 3.1 Shuffling the data\n",
    "\n",
    "Most of the machine learning projects that I've seen do not make use of shuffle feature in python. It is very important to shuffle the data randomly so that we get outputs differently and we would be dealing with data without any particular order or a particular timeframe. "
   ]
  },
  {
   "cell_type": "code",
   "execution_count": null,
   "metadata": {},
   "outputs": [],
   "source": [
    "shuffled_data = shuffle(data, random_state = 100)\n",
    "X = shuffled_data.drop(['MSRP'], axis = 1)\n",
    "y = shuffled_data['MSRP']"
   ]
  },
  {
   "cell_type": "markdown",
   "metadata": {},
   "source": [
    "## 3.2 Dividing the data into training and testing set\n",
    "\n",
    "We would be dividing the data into training data and testing data. Since we have a lot of data points, it would be better to randomly divide the data so that the test set just contains 20 percent of the values. Since the total number of data points that we have taken into consideration are about 10000, it would be wise to divide the training and testing set in the ratio 80:20 percent. In general, we would be diving the training and testing set so that the value that is present in the training set is about 30 percent of the total data. "
   ]
  },
  {
   "cell_type": "code",
   "execution_count": null,
   "metadata": {},
   "outputs": [],
   "source": [
    "X_train, X_test, y_train, y_test = train_test_split(X, y, test_size = 0.2, random_state = 100)"
   ]
  },
  {
   "cell_type": "markdown",
   "metadata": {},
   "source": [
    "We would be printing the format of the data and see how the values are divided. We see that the total number of rows on the training set are about 9364 respectively. We also see that the total number of rows on the test set are about 2341 respectively. These values can be seen here. "
   ]
  },
  {
   "cell_type": "code",
   "execution_count": null,
   "metadata": {},
   "outputs": [],
   "source": [
    "print(\"The size of the input train data is: {}\".format(X_train.shape))\n",
    "print(\"The size of the output train data is: {}\".format(y_train.shape))\n",
    "print(\"The size of the input test data is: {}\".format(X_test.shape))\n",
    "print(\"The size of the output test data is: {}\".format(y_test.shape))"
   ]
  },
  {
   "cell_type": "markdown",
   "metadata": {},
   "source": [
    "## 3.3 Encoding the data\n",
    "\n",
    "When we are doing any machine learning applications, it is important to encode the data so that we would be able to convert the data in the form of categorical features so that we would be working on the data that is mathematical rather than categorical. Therefore, we would be converting the categorical feature into numerical features so that we are going to be using the mathematical vectors for our machine learning applications. \n",
    "\n",
    "There are different encoding techniques that we would be taking into consideration and we are making sure that we get the best output values associated with each of them. You can check out the link below to see the different encoding techniques to convert the cateogrical values into numerical features respectively. \n",
    "\n",
    "https://www.analyticsvidhya.com/blog/2020/08/types-of-categorical-data-encoding/"
   ]
  },
  {
   "cell_type": "code",
   "execution_count": null,
   "metadata": {},
   "outputs": [],
   "source": [
    "encoder = TargetEncoder(cols = 'Year')"
   ]
  },
  {
   "cell_type": "code",
   "execution_count": null,
   "metadata": {},
   "outputs": [],
   "source": [
    "X_train.head()"
   ]
  },
  {
   "cell_type": "markdown",
   "metadata": {},
   "source": [
    "We would be doing the target encoding here where we would replace the values with the average values of the 'MSRP' whenever we find a value associated with it. This would make it easier for the machine learning model as we are already giving the output values to it so that there is no need to encode further. "
   ]
  },
  {
   "cell_type": "code",
   "execution_count": null,
   "metadata": {},
   "outputs": [],
   "source": [
    "encoder.fit(X_train['Year'], y_train.to_frame()['MSRP'] )\n"
   ]
  },
  {
   "cell_type": "markdown",
   "metadata": {},
   "source": [
    "We would be transforming the value so that we are now converting the column so that we get the most desired output respectively. "
   ]
  },
  {
   "cell_type": "code",
   "execution_count": null,
   "metadata": {},
   "outputs": [],
   "source": [
    "X_train['Year'] = encoder.transform(X_train['Year'])\n"
   ]
  },
  {
   "cell_type": "markdown",
   "metadata": {},
   "source": [
    "We should also make sure that the values that we have taken into consideration and transforming should be with respect to the training set. We should not replace those values with the test output as it would lead to data leakage respectively. "
   ]
  },
  {
   "cell_type": "code",
   "execution_count": null,
   "metadata": {},
   "outputs": [],
   "source": [
    "X_test['Year'] = encoder.transform(X_test['Year'])"
   ]
  },
  {
   "cell_type": "code",
   "execution_count": null,
   "metadata": {},
   "outputs": [],
   "source": [
    "X_train.head()"
   ]
  },
  {
   "cell_type": "markdown",
   "metadata": {},
   "source": [
    "We would be doing the same set of steps for other models and we would be taking those values into consideration from our data set. "
   ]
  },
  {
   "cell_type": "code",
   "execution_count": null,
   "metadata": {},
   "outputs": [],
   "source": [
    "encoder = TargetEncoder(cols = 'Model')\n",
    "encoder.fit(X_train['Model'], y_train.to_frame()['MSRP'])\n",
    "X_train['Model'] = encoder.transform(X_train['Model'])\n",
    "X_test['Model'] = encoder.transform(X_test['Model'])\n"
   ]
  },
  {
   "cell_type": "code",
   "execution_count": null,
   "metadata": {
    "scrolled": true
   },
   "outputs": [],
   "source": [
    "X_train.head()"
   ]
  },
  {
   "cell_type": "markdown",
   "metadata": {},
   "source": [
    "Same operation is being performed here as well as can be seen below. "
   ]
  },
  {
   "cell_type": "code",
   "execution_count": null,
   "metadata": {},
   "outputs": [],
   "source": [
    "encoder = TargetEncoder(cols = 'Make')\n",
    "encoder.fit(X_train['Make'], y_train.to_frame()['MSRP'])\n",
    "X_train['Make'] = encoder.transform(X_train['Make'])\n",
    "X_test['Make'] = encoder.transform(X_test['Make'])"
   ]
  },
  {
   "cell_type": "code",
   "execution_count": null,
   "metadata": {},
   "outputs": [],
   "source": [
    "X_train[\"Engine Fuel Type\"].unique()"
   ]
  },
  {
   "cell_type": "code",
   "execution_count": null,
   "metadata": {},
   "outputs": [],
   "source": [
    "X_train.head()"
   ]
  },
  {
   "cell_type": "markdown",
   "metadata": {},
   "source": [
    "## 3.4 One Hot Encoding \n",
    "\n",
    "Now we would be making use of the one hot encoding. One hot encoding is a technique where each category in a feature is converted into a feature and set to 1 once the particular value is present in the data. "
   ]
  },
  {
   "cell_type": "code",
   "execution_count": null,
   "metadata": {},
   "outputs": [],
   "source": [
    "encoder = OneHotEncoder()\n",
    "encoder.fit(X_train[['Engine Fuel Type', 'Transmission Type', 'Driven_Wheels', 'Vehicle Size', 'Vehicle Style']])\n",
    "one_hot_encoded_output_train = encoder.transform(X_train[['Engine Fuel Type', 'Transmission Type', 'Driven_Wheels', 'Vehicle Size', 'Vehicle Style']])\n",
    "one_hot_encoded_output_test = encoder.transform(X_test[['Engine Fuel Type', 'Transmission Type', 'Driven_Wheels', 'Vehicle Size', 'Vehicle Style']])"
   ]
  },
  {
   "cell_type": "markdown",
   "metadata": {},
   "source": [
    "We would concatenate the features with the X_train and X_test and remove the actual categorical features as they should not be given to the machine learning algorithms respectively. "
   ]
  },
  {
   "cell_type": "code",
   "execution_count": null,
   "metadata": {},
   "outputs": [],
   "source": [
    "X_train = pd.concat([X_train, one_hot_encoded_output_train], axis = 1)\n",
    "X_test = pd.concat([X_test, one_hot_encoded_output_test], axis = 1)"
   ]
  },
  {
   "cell_type": "code",
   "execution_count": null,
   "metadata": {},
   "outputs": [],
   "source": [
    "X_train.drop(['Engine Fuel Type', 'Transmission Type', 'Driven_Wheels', 'Vehicle Size', 'Vehicle Style'], axis = 1, inplace = True)\n",
    "X_test.drop(['Engine Fuel Type', 'Transmission Type', 'Driven_Wheels', 'Vehicle Size', 'Vehicle Style'], axis = 1, inplace = True)"
   ]
  },
  {
   "cell_type": "markdown",
   "metadata": {},
   "source": [
    "We would check the info of the data and see the values that are present in the data. We see that there are only float and int values rather than objects. We see that we can give this to the machine learning algorithm for implementation. "
   ]
  },
  {
   "cell_type": "code",
   "execution_count": null,
   "metadata": {},
   "outputs": [],
   "source": [
    "X_train.info()"
   ]
  },
  {
   "cell_type": "markdown",
   "metadata": {},
   "source": [
    "## 3.5 Standardization and Normalization of data\n",
    "\n",
    "We would be considering the values of our data and perform some operations such as standardization and normalization before giving the data to the machine learning algorithms. We would be transforming the features that are present in the data and convert the values using the minmaxscaler respectively. "
   ]
  },
  {
   "cell_type": "code",
   "execution_count": null,
   "metadata": {},
   "outputs": [],
   "source": [
    "scaler = MinMaxScaler()\n",
    "scaler.fit(X_train)\n",
    "X_train_new = scaler.transform(X_train)\n",
    "X_test_new = scaler.transform(X_test)"
   ]
  },
  {
   "cell_type": "code",
   "execution_count": null,
   "metadata": {},
   "outputs": [],
   "source": [
    "X_train_new.shape"
   ]
  },
  {
   "cell_type": "markdown",
   "metadata": {},
   "source": [
    "We would create an empty list and we would be appending the values later so that we can analyze different machine learning algorithms for deployment. "
   ]
  },
  {
   "cell_type": "code",
   "execution_count": null,
   "metadata": {},
   "outputs": [],
   "source": [
    "error_mean_square = []\n",
    "error_mean_absolute = []"
   ]
  },
  {
   "cell_type": "markdown",
   "metadata": {},
   "source": [
    "# 4. Machine Learning Analysis\n",
    "\n",
    "In this section, we are going to be performing the machine learning analysis where we use different machine learning models and see how well they perform on the test set. Let us consider their performances and plot them using various plots such as regplots and barplots respectively. With this analysis, we can conclude the performance of different machine learning models and select the best machine learning model for our problem. Therefore, let us dive into this section and see the overall performance of the models for car prices prediction. "
   ]
  },
  {
   "cell_type": "markdown",
   "metadata": {},
   "source": [
    "## 4.1 Linear Regression \n",
    "\n",
    "We would now be working with linear regression model and understand the data fully. We see that one of the best ways for predicting the regression values or the continuous output is to use linear regression as it is straightforward. We have to first give the training data including the training output. We have to first fit the model with that data and understand the parameters. After we fit the model, we have to train the model using the machine learning predictions to get the output. We have to later compare the values from the actual values with the predicted values to get the output. We have to be using various machine learning metrics what are used for evaluation. \n",
    "\n",
    "In the same way, we would be working with a few machine learning models and get their outputs and compare the values using the metrics to see which algorithm performs the best. "
   ]
  },
  {
   "cell_type": "code",
   "execution_count": null,
   "metadata": {},
   "outputs": [],
   "source": [
    "model = LinearRegression()\n",
    "model.fit(X_train_new, y_train)"
   ]
  },
  {
   "cell_type": "markdown",
   "metadata": {},
   "source": [
    "Here, we would be using predict to predict the test set values and store those values in y_predict which would later be used for comparison. "
   ]
  },
  {
   "cell_type": "code",
   "execution_count": null,
   "metadata": {},
   "outputs": [],
   "source": [
    "y_predict = model.predict(X_test_new)"
   ]
  },
  {
   "cell_type": "markdown",
   "metadata": {},
   "source": [
    "We would be storing the results in error_mean_square and error_mean_absolute as they are lists. We would later be plotting the outputs and see how well the machine learning models did in the test set. "
   ]
  },
  {
   "cell_type": "code",
   "execution_count": null,
   "metadata": {},
   "outputs": [],
   "source": [
    "error_mean_square.append(int(mean_squared_error(y_predict, y_test)))\n",
    "error_mean_absolute.append(int(mean_absolute_error(y_predict, y_test)))"
   ]
  },
  {
   "cell_type": "markdown",
   "metadata": {},
   "source": [
    "We see that there is a value appended in the list below."
   ]
  },
  {
   "cell_type": "code",
   "execution_count": null,
   "metadata": {},
   "outputs": [],
   "source": [
    "error_mean_absolute"
   ]
  },
  {
   "cell_type": "markdown",
   "metadata": {},
   "source": [
    "One of the interesting things that we would be doing is to create a dataframe containing the predicted valeus and the actual values and draw a plot so that we can see how the output is actually different from the predictions. "
   ]
  },
  {
   "cell_type": "code",
   "execution_count": null,
   "metadata": {},
   "outputs": [],
   "source": [
    "y_predict = pd.DataFrame(y_predict, columns = ['Predicted Output'])"
   ]
  },
  {
   "cell_type": "markdown",
   "metadata": {},
   "source": [
    "We would be looking at the head of the dataframe and understand the data better. "
   ]
  },
  {
   "cell_type": "code",
   "execution_count": null,
   "metadata": {},
   "outputs": [],
   "source": [
    "y_predict.head()"
   ]
  },
  {
   "cell_type": "markdown",
   "metadata": {},
   "source": [
    "We would also take the testing set values and see how they actually are respectively."
   ]
  },
  {
   "cell_type": "code",
   "execution_count": null,
   "metadata": {},
   "outputs": [],
   "source": [
    "y_test.to_frame().head()"
   ]
  },
  {
   "cell_type": "markdown",
   "metadata": {},
   "source": [
    "Here, we would be concatenating the y_predict values an the y_test values and see how well the machine learning models perform. "
   ]
  },
  {
   "cell_type": "code",
   "execution_count": null,
   "metadata": {},
   "outputs": [],
   "source": [
    "results = pd.concat([y_predict, y_test.to_frame().reset_index(drop = True)], axis = 1, ignore_index = False)"
   ]
  },
  {
   "cell_type": "markdown",
   "metadata": {},
   "source": [
    "Below, we can see the concatenated output and see the output"
   ]
  },
  {
   "cell_type": "code",
   "execution_count": null,
   "metadata": {},
   "outputs": [],
   "source": [
    "results.head()"
   ]
  },
  {
   "cell_type": "markdown",
   "metadata": {},
   "source": [
    "## 4.1.1 Regplot for Linear Regression Output\n",
    "\n",
    "We would be using the seaborn's regplot to better understand how the data is spread. We see how the values are spread out and get a good understanding. We can understand from the plot that the predictions were very close to the actual values that we have considered. Therefore, linear regression did a good job in giving the regression values and can be used for predictions in the future. However, it is also better to test other machine learning models and see how well they do so that we can finally decide the best model that could be used for deployment. "
   ]
  },
  {
   "cell_type": "code",
   "execution_count": null,
   "metadata": {},
   "outputs": [],
   "source": [
    "plt.figure(figsize = (10, 10))\n",
    "sns.regplot(data = results, y = 'Predicted Output', x = 'MSRP', color = 'teal', marker = 'o')\n",
    "plt.title(\"Comparision of predicted values and the actual values\", fontsize = 20)\n",
    "plt.show()"
   ]
  },
  {
   "cell_type": "markdown",
   "metadata": {},
   "source": [
    "## 4.2 Support Vector Regressor\n",
    "\n",
    "We would now be working with a new machine learning model called support vector regressor. We would be plotting the regplot and understand the predictions. Support Vector Regressor comes from Support Vector Machines and we would just be changed the kernel so that it would perform the regression tasks."
   ]
  },
  {
   "cell_type": "code",
   "execution_count": null,
   "metadata": {},
   "outputs": [],
   "source": [
    "model = SVR()\n",
    "model.fit(X_train_new, y_train)\n",
    "y_predict = model.predict(X_test_new)\n",
    "y_predict = pd.DataFrame(y_predict, columns = ['Predicted Output'])\n",
    "results = pd.concat([y_predict, y_test.to_frame().reset_index(drop = True)], axis = 1, ignore_index = False)"
   ]
  },
  {
   "cell_type": "markdown",
   "metadata": {},
   "source": [
    "## 4.2.1 Regplot for Support Vector Regressor\n",
    "\n",
    "We would now be plotting and understanding the support vector regressor in detail. We see the output values that are not so close to the actual values. This makes us conclude that support vector regressor cannot be used in our use case respectively. We can tell from the plot below that some of the predictions were way too far from the actual output. Therefore, the margin for error is high in this machine learning model. "
   ]
  },
  {
   "cell_type": "code",
   "execution_count": null,
   "metadata": {},
   "outputs": [],
   "source": [
    "plt.figure(figsize = (10, 10))\n",
    "sns.regplot(data = results, y = 'Predicted Output', x = 'MSRP', color = 'palevioletred', marker = 'o')\n",
    "plt.title(\"Comparision of predicted values and the actual values\", fontsize = 20)\n",
    "plt.show()"
   ]
  },
  {
   "cell_type": "markdown",
   "metadata": {},
   "source": [
    "We would be again appending those values of the metrics and store them in a list for plotting later."
   ]
  },
  {
   "cell_type": "code",
   "execution_count": null,
   "metadata": {},
   "outputs": [],
   "source": [
    "error_mean_square.append(int(mean_squared_error(y_predict, y_test)))\n",
    "error_mean_absolute.append(int(mean_absolute_error(y_predict, y_test)))"
   ]
  },
  {
   "cell_type": "markdown",
   "metadata": {},
   "source": [
    "## 4.3 K - Neighbors Regressor \n",
    "\n",
    "We would be using the knn regressor and understand the output. We would be drawing a regplot to get an understanding of how the data is spread out. "
   ]
  },
  {
   "cell_type": "code",
   "execution_count": null,
   "metadata": {},
   "outputs": [],
   "source": [
    "model = KNeighborsRegressor(n_neighbors = 2)\n",
    "model.fit(X_train_new, y_train)\n",
    "y_predict = model.predict(X_test_new)\n",
    "y_predict = pd.DataFrame(y_predict, columns = ['Predicted Output'])\n",
    "results = pd.concat([y_predict, y_test.to_frame().reset_index(drop = True)], axis = 1, ignore_index = False)"
   ]
  },
  {
   "cell_type": "markdown",
   "metadata": {},
   "source": [
    "## 4.3.1 Regplot for K - Neighbors Regressor\n",
    "\n",
    "We would be making use of the regplot again and plotting the predicted values and the actual predicted output values. We see that K - Neighbors Regressor did well in the testing set as compared to Support Vector Regressor respectively.We see that most of the predictions are close to the actual outputs in the plot below. There are just a few points that were not completely accurate and the margin error is high. But ther is not a lot of error for the remaining predictions as can be seen below. "
   ]
  },
  {
   "cell_type": "code",
   "execution_count": null,
   "metadata": {},
   "outputs": [],
   "source": [
    "plt.figure(figsize = (10, 10))\n",
    "sns.regplot(data = results, y = 'Predicted Output', x = 'MSRP', color = 'darkslateblue', marker = 'o')\n",
    "plt.title(\"Comparision of predicted values and the actual values\", fontsize = 20)\n",
    "plt.show()"
   ]
  },
  {
   "cell_type": "markdown",
   "metadata": {},
   "source": [
    "We would be using the metrics that we have seen and storing those values in a list. We would append the elements and form a list. "
   ]
  },
  {
   "cell_type": "code",
   "execution_count": null,
   "metadata": {},
   "outputs": [],
   "source": [
    "error_mean_square.append(int(mean_squared_error(y_predict, y_test)))\n",
    "error_mean_absolute.append(int(mean_absolute_error(y_predict, y_test)))"
   ]
  },
  {
   "cell_type": "markdown",
   "metadata": {},
   "source": [
    "## 4.4 PLS Regression\n",
    "\n",
    "We would also be using this novel PLS Regression technique to make the predictions."
   ]
  },
  {
   "cell_type": "code",
   "execution_count": null,
   "metadata": {},
   "outputs": [],
   "source": [
    "model = PLSRegression(n_components = 20)\n",
    "model.fit(X_train_new, y_train)\n",
    "y_predict = model.predict(X_test_new)\n",
    "y_predict = pd.DataFrame(y_predict, columns = ['Predicted Output'])\n",
    "results = pd.concat([y_predict, y_test.to_frame().reset_index(drop = True)], axis = 1, ignore_index = False)"
   ]
  },
  {
   "cell_type": "markdown",
   "metadata": {},
   "source": [
    "## 4.4.1 Regplot for PLS Regression\n",
    "PLS regression scatterplot is also good as compared to Support Vector Regressor. It actually did well in giving the continuous values prediction and can be used in later projects. "
   ]
  },
  {
   "cell_type": "code",
   "execution_count": null,
   "metadata": {},
   "outputs": [],
   "source": [
    "plt.figure(figsize = (10, 10))\n",
    "sns.regplot(data = results, y = 'Predicted Output', x = 'MSRP', color = 'firebrick', marker = 'o')\n",
    "plt.title(\"Comparision of predicted values and the actual values\", fontsize = 20)\n",
    "plt.show()"
   ]
  },
  {
   "cell_type": "markdown",
   "metadata": {},
   "source": [
    "We would be appending the error metric in the list that we have created. "
   ]
  },
  {
   "cell_type": "code",
   "execution_count": null,
   "metadata": {},
   "outputs": [],
   "source": [
    "error_mean_square.append(int(mean_squared_error(y_predict, y_test)))\n",
    "error_mean_absolute.append(int(mean_absolute_error(y_predict, y_test)))"
   ]
  },
  {
   "cell_type": "markdown",
   "metadata": {},
   "source": [
    "## 4.5 Decision Tree Regressor\n",
    "\n",
    "We would making use of decision tree regressor and make the split to be random. We would be fitting the training data to it and make the predictions later for the test data to get an understanding of how the algorithm did in the test set. "
   ]
  },
  {
   "cell_type": "code",
   "execution_count": null,
   "metadata": {},
   "outputs": [],
   "source": [
    "model = DecisionTreeRegressor(splitter = 'random')\n",
    "model.fit(X_train_new, y_train)\n",
    "y_predict = model.predict(X_test_new)\n",
    "y_predict = pd.DataFrame(y_predict, columns = ['Predicted Output'])\n",
    "results = pd.concat([y_predict, y_test.to_frame().reset_index(drop = True)], axis = 1, ignore_index = False)"
   ]
  },
  {
   "cell_type": "markdown",
   "metadata": {},
   "source": [
    "## 4.5.1 Regplot for Decision Tree Regressor\n",
    "\n",
    "We would be making use of Decision Tree Regressor and understand the outputs respectively. We see that decision tree regressor also does a very good job of predicting the right outputs for the test inputs. Therefore, this model can be deployed in production. In additon to this, we have to do the hyperparameter tuning so that we would be able to get the best output for this model. "
   ]
  },
  {
   "cell_type": "code",
   "execution_count": null,
   "metadata": {},
   "outputs": [],
   "source": [
    "plt.figure(figsize = (10, 10))\n",
    "sns.regplot(data = results, y = 'Predicted Output', x = 'MSRP', color = 'coral', marker = 'o')\n",
    "plt.title(\"Comparision of predicted values and the actual values\", fontsize = 20)\n",
    "plt.show()"
   ]
  },
  {
   "cell_type": "markdown",
   "metadata": {},
   "source": [
    "We would be appending the values to the list that we have created before."
   ]
  },
  {
   "cell_type": "code",
   "execution_count": null,
   "metadata": {},
   "outputs": [],
   "source": [
    "error_mean_square.append(int(mean_squared_error(y_predict, y_test)))\n",
    "error_mean_absolute.append(int(mean_absolute_error(y_predict, y_test)))"
   ]
  },
  {
   "cell_type": "markdown",
   "metadata": {},
   "source": [
    "## 4.6 Gradient Boosting Regressor\n",
    "\n",
    "We would be making use of gradient boosting regressor respectively. We would follow the same procedure of traning the data and getting test output and see how well the model did on the test set. There can be a few hyperparameters that we would need to tune. But it would be better to see how the model actually performs with it's default values of hyperparameters respectively."
   ]
  },
  {
   "cell_type": "code",
   "execution_count": null,
   "metadata": {},
   "outputs": [],
   "source": [
    "model = GradientBoostingRegressor()\n",
    "model.fit(X_train_new, y_train)\n",
    "y_predict = model.predict(X_test_new)\n",
    "y_predict = pd.DataFrame(y_predict, columns = ['Predicted Output'])\n",
    "results = pd.concat([y_predict, y_test.to_frame().reset_index(drop = True)], axis = 1, ignore_index = False)"
   ]
  },
  {
   "cell_type": "markdown",
   "metadata": {},
   "source": [
    "## 4.6.1 Regplot of Gradient Boosting Regressor \n",
    "\n",
    "We would now be using the gradient boosting regressor and plot the values and get a scatterplot respectively. We see that the gradient boosting regressor also did a fine job in getting the most accurate predictions. There could be a few outliers in the predictions but they are few in number. Most of the points were accurately predicted with small errors in them. Therefore, this is also a good model that could be used for predictions."
   ]
  },
  {
   "cell_type": "code",
   "execution_count": null,
   "metadata": {},
   "outputs": [],
   "source": [
    "plt.figure(figsize = (10, 10))\n",
    "sns.regplot(data = results, y = 'Predicted Output', x = 'MSRP', color = 'darkmagenta', marker = 'o')\n",
    "plt.title(\"Comparision of predicted values and the actual values\", fontsize = 20)\n",
    "plt.show()"
   ]
  },
  {
   "cell_type": "markdown",
   "metadata": {},
   "source": [
    "We would make use of the list and append the errors so that we could plot them later. "
   ]
  },
  {
   "cell_type": "code",
   "execution_count": null,
   "metadata": {},
   "outputs": [],
   "source": [
    "error_mean_square.append(int(mean_squared_error(y_predict, y_test)))\n",
    "error_mean_absolute.append(int(mean_absolute_error(y_predict, y_test)))"
   ]
  },
  {
   "cell_type": "markdown",
   "metadata": {},
   "source": [
    "## 4.7 MLP Regressor\n",
    "\n",
    "We would make use of the MLP Regressor which is the neural network for predictions. We would be taking into account 50 hidden layer sizes and an alpha values equal to 0.001 respectively. We have different types of learning rates that we could be using but here, let us stick on to 'adaptive' respectively. "
   ]
  },
  {
   "cell_type": "code",
   "execution_count": null,
   "metadata": {},
   "outputs": [],
   "source": [
    "model = MLPRegressor(hidden_layer_sizes = 50, alpha = 0.001, solver = 'lbfgs', learning_rate = 'adaptive')\n",
    "model.fit(X_train_new, y_train)\n",
    "y_predict = model.predict(X_test_new)\n",
    "y_predict = pd.DataFrame(y_predict, columns = ['Predicted Output'])\n",
    "results = pd.concat([y_predict, y_test.to_frame().reset_index(drop = True)], axis = 1, ignore_index = False)"
   ]
  },
  {
   "cell_type": "markdown",
   "metadata": {},
   "source": [
    "## 4.7.1 Regplot of MLP Regressor\n",
    "\n",
    "We would be using the MLP regressor scatterplot and plot the actual output values with the predicted output values respectively so that we get a good understanding of the machine leanring model. We can see that this model also does a very fine job in predicting the outputs. Therefore, we would have to now plot the mean square error and mean absolute error of the different machine learning algorithms that we have used till now and understand those values. Based on those values, we can further conclude the best machine learning model that could be used for deployment. We have to be doing the hyperparameter tuning after finding the best model. However, it is a complicated step as we have to take into consideration different hyperparameters and get the accuracy values for different values and plot them. Since we are not participating in any competitions, it would be wise to just find the best machine learning model and conclude our understanding respectively. "
   ]
  },
  {
   "cell_type": "code",
   "execution_count": null,
   "metadata": {},
   "outputs": [],
   "source": [
    "plt.figure(figsize = (10, 10))\n",
    "sns.regplot(data = results, y = 'Predicted Output', x = 'MSRP', color = 'steelblue', marker = 'o')\n",
    "plt.title(\"Comparision of predicted values and the actual values\", fontsize = 20)\n",
    "plt.show()"
   ]
  },
  {
   "cell_type": "markdown",
   "metadata": {},
   "source": [
    "We would be appending the values to the list that we have created so that they could be used for plotting later on. "
   ]
  },
  {
   "cell_type": "code",
   "execution_count": null,
   "metadata": {},
   "outputs": [],
   "source": [
    "error_mean_square.append(int(mean_squared_error(y_predict, y_test)))\n",
    "error_mean_absolute.append(int(mean_absolute_error(y_predict, y_test)))"
   ]
  },
  {
   "cell_type": "markdown",
   "metadata": {},
   "source": [
    "## 4.8 Dataframe of Machine Learning Models\n",
    "\n",
    "Now it is time to get to the end. We would now be using the models that we have just created and making a dataframe. We would append the list values that we have been appending the error values and make a dataframe containing the models and the errors associated with them. "
   ]
  },
  {
   "cell_type": "code",
   "execution_count": null,
   "metadata": {},
   "outputs": [],
   "source": [
    "data = {'Models': ['Linear Regression', 'Support Vector Regressor', 'K Nearest Regressor', 'PLS Regression', 'Decision Tree Regressor', 'Gradient Boosting Regressor', 'MLP Regressor'], 'Mean Absolute Error': error_mean_absolute, 'Mean Squared Error': error_mean_square}\n",
    "model_dataframe = pd.DataFrame(data)"
   ]
  },
  {
   "cell_type": "markdown",
   "metadata": {},
   "source": [
    "We could have a look at the machine learning models dataframe that we have just created respectively."
   ]
  },
  {
   "cell_type": "code",
   "execution_count": null,
   "metadata": {},
   "outputs": [],
   "source": [
    "model_dataframe"
   ]
  },
  {
   "cell_type": "markdown",
   "metadata": {},
   "source": [
    "## 4.9 (a) Barplot of machine learning models with mean absolute error \n",
    "\n",
    "We would be making use of the mean absolute error and understand the data fully. We see that the mean absolute error for the machine learning model 'Support Vector Regressor' is the highest. We could also understand this from the above scatterplot of 'Support Vector Regressor' respectively. We also see from the graph that the 'Decision Tree Regressor' has the lowest mean absolute error. We can conclude that it is better to use the 'Decision Tree Regressor' for deploying and for predictions in the future as it has the lowest mean absolute error. "
   ]
  },
  {
   "cell_type": "code",
   "execution_count": null,
   "metadata": {},
   "outputs": [],
   "source": [
    "plt.figure(figsize = (20, 10))\n",
    "splot = sns.barplot(data = model_dataframe, x = 'Models', y = 'Mean Absolute Error', palette = 'Paired')\n",
    "for p in splot.patches:\n",
    "    splot.annotate(format(p.get_height(), '.0f'), \n",
    "                   (p.get_x() + p.get_width() / 2., p.get_height()), \n",
    "                   ha = 'center', va = 'center', \n",
    "                   xytext = (0, 9), \n",
    "                   textcoords = 'offset points')\n",
    "plt.xticks(fontsize = 13)\n",
    "plt.yticks(fontsize = 13)\n",
    "plt.title(\"Barplot of various machine learning regression models with mean absolute error\", fontsize = 20)\n",
    "plt.show()"
   ]
  },
  {
   "cell_type": "markdown",
   "metadata": {},
   "source": [
    "## 4.9 (b) Barplot of machine learning models with mean squared error\n",
    "\n",
    "We would now be plotting the barplot of various machine learning models by taking into consideration the mean squared error respectively. We can see from the graph that 'Decision Tree Regressor' has the lowest mean squared error respectively. Therefore, it is one of the best models to use as there is low error for the testing set. We have to always compare different machine learning models and understand how the values are shaped respectively. There might be different machine learning models that would perform differently for different scenarios and different data sets respectively. "
   ]
  },
  {
   "cell_type": "code",
   "execution_count": null,
   "metadata": {},
   "outputs": [],
   "source": [
    "plt.figure(figsize = (20, 10))\n",
    "splot = sns.barplot(data = model_dataframe, x = 'Models', y = 'Mean Squared Error', palette = 'Spectral')\n",
    "for p in splot.patches:\n",
    "    splot.annotate(format(p.get_height(), '.0f'), \n",
    "                   (p.get_x() + p.get_width() / 2., p.get_height()), \n",
    "                   ha = 'center', va = 'center', \n",
    "                   xytext = (0, 9), \n",
    "                   textcoords = 'offset points')\n",
    "plt.xticks(fontsize = 13)\n",
    "plt.yticks(fontsize = 13)\n",
    "plt.title(\"Barplot of various machine learning regression models with mean squared error\", fontsize = 20)\n",
    "plt.show()"
   ]
  },
  {
   "cell_type": "markdown",
   "metadata": {},
   "source": [
    "## 5. Conclusion\n",
    "\n",
    "1. We can see that using different machine learning models would lead to different values of mean absolute error and mean squared error respectively.\n",
    "2. We would have to first convert all the categorical features into numerical features before we give those data points to the machine learning models for prediction. If we just give categorical features directly, there would be an error in the machine learning models respectively. \n",
    "3. It is always good to shuffle the data before we split the data into training and testing set. This is done so that we have more randomness in the training data so that the machine learning models would work well on new data.\n",
    "4. We have to always ensure that there are no missing values in our data. We have to replace those values so that there is no problem when we are using different machine learning models for prediction. \n",
    "5. We have to also remove the outliers in our data as they would completely change some of the important predictions and lead to an increase in the error respectively. "
   ]
  }
 ],
 "metadata": {
  "kernelspec": {
   "display_name": "DS340W",
   "language": "python",
   "name": "python3"
  },
  "language_info": {
   "codemirror_mode": {
    "name": "ipython",
    "version": 3
   },
   "file_extension": ".py",
   "mimetype": "text/x-python",
   "name": "python",
   "nbconvert_exporter": "python",
   "pygments_lexer": "ipython3",
   "version": "3.10.16"
  }
 },
 "nbformat": 4,
 "nbformat_minor": 4
}
